{
 "cells": [
  {
   "cell_type": "code",
   "execution_count": 2,
   "id": "a8b4cb00",
   "metadata": {},
   "outputs": [
    {
     "name": "stdout",
     "output_type": "stream",
     "text": [
      "Requirement already satisfied: pip in c:\\miniconda3\\codes\\env\\lib\\site-packages (21.2.4)\n",
      "Collecting pip\n",
      "  Downloading pip-22.1.2-py3-none-any.whl (2.1 MB)\n",
      "Installing collected packages: pip\n",
      "  Attempting uninstall: pip\n",
      "    Found existing installation: pip 21.2.4\n",
      "    Uninstalling pip-21.2.4:\n",
      "      Successfully uninstalled pip-21.2.4\n",
      "Successfully installed pip-22.1.2\n"
     ]
    }
   ],
   "source": [
    "!pip install --upgrade pip"
   ]
  },
  {
   "cell_type": "code",
   "execution_count": 4,
   "id": "2ab75305",
   "metadata": {},
   "outputs": [
    {
     "name": "stdout",
     "output_type": "stream",
     "text": [
      "Collecting package metadata (current_repodata.json): ...working... done\n",
      "Solving environment: ...working... done\n",
      "\n",
      "## Package Plan ##\n",
      "\n",
      "  environment location: C:\\Miniconda3\\Codes\\env\n",
      "\n",
      "\n",
      "The following packages will be downloaded:\n",
      "\n",
      "    package                    |            build\n",
      "    ---------------------------|-----------------\n",
      "    tk-8.6.12                  |       h2bbff1b_0         3.1 MB\n",
      "    ------------------------------------------------------------\n",
      "                                           Total:         3.1 MB\n",
      "\n",
      "The following packages will be UPDATED:\n",
      "\n",
      "  tk                                      8.6.11-h2bbff1b_1 --> 8.6.12-h2bbff1b_0\n",
      "\n",
      "\n",
      "\n",
      "Downloading and Extracting Packages\n",
      "\n",
      "tk-8.6.12            | 3.1 MB    |            |   0% \n",
      "tk-8.6.12            | 3.1 MB    |            |   1% \n",
      "tk-8.6.12            | 3.1 MB    | 1          |   2% \n",
      "tk-8.6.12            | 3.1 MB    | 3          |   3% \n",
      "tk-8.6.12            | 3.1 MB    | 5          |   5% \n",
      "tk-8.6.12            | 3.1 MB    | 7          |   7% \n",
      "tk-8.6.12            | 3.1 MB    | 8          |   8% \n",
      "tk-8.6.12            | 3.1 MB    | #2         |  12% \n",
      "tk-8.6.12            | 3.1 MB    | #3         |  14% \n",
      "tk-8.6.12            | 3.1 MB    | #5         |  15% \n",
      "tk-8.6.12            | 3.1 MB    | #6         |  17% \n",
      "tk-8.6.12            | 3.1 MB    | #8         |  19% \n",
      "tk-8.6.12            | 3.1 MB    | ##         |  21% \n",
      "tk-8.6.12            | 3.1 MB    | ##2        |  22% \n",
      "tk-8.6.12            | 3.1 MB    | ##3        |  24% \n",
      "tk-8.6.12            | 3.1 MB    | ##5        |  25% \n",
      "tk-8.6.12            | 3.1 MB    | ##7        |  27% \n",
      "tk-8.6.12            | 3.1 MB    | ##9        |  29% \n",
      "tk-8.6.12            | 3.1 MB    | ###1       |  31% \n",
      "tk-8.6.12            | 3.1 MB    | ###3       |  33% \n",
      "tk-8.6.12            | 3.1 MB    | ###5       |  35% \n",
      "tk-8.6.12            | 3.1 MB    | ###8       |  38% \n",
      "tk-8.6.12            | 3.1 MB    | ####       |  40% \n",
      "tk-8.6.12            | 3.1 MB    | ####2      |  43% \n",
      "tk-8.6.12            | 3.1 MB    | ####4      |  45% \n",
      "tk-8.6.12            | 3.1 MB    | ####7      |  47% \n",
      "tk-8.6.12            | 3.1 MB    | ####9      |  50% \n",
      "tk-8.6.12            | 3.1 MB    | #####1     |  51% \n",
      "tk-8.6.12            | 3.1 MB    | #####2     |  53% \n",
      "tk-8.6.12            | 3.1 MB    | #####4     |  54% \n",
      "tk-8.6.12            | 3.1 MB    | #####7     |  57% \n",
      "tk-8.6.12            | 3.1 MB    | #####8     |  59% \n",
      "tk-8.6.12            | 3.1 MB    | ######     |  60% \n",
      "tk-8.6.12            | 3.1 MB    | ######1    |  62% \n",
      "tk-8.6.12            | 3.1 MB    | ######3    |  63% \n",
      "tk-8.6.12            | 3.1 MB    | ######5    |  66% \n",
      "tk-8.6.12            | 3.1 MB    | ######7    |  68% \n",
      "tk-8.6.12            | 3.1 MB    | ######9    |  70% \n",
      "tk-8.6.12            | 3.1 MB    | #######1   |  71% \n",
      "tk-8.6.12            | 3.1 MB    | #######2   |  73% \n",
      "tk-8.6.12            | 3.1 MB    | #######4   |  74% \n",
      "tk-8.6.12            | 3.1 MB    | #######6   |  76% \n",
      "tk-8.6.12            | 3.1 MB    | #######7   |  78% \n",
      "tk-8.6.12            | 3.1 MB    | #######9   |  79% \n",
      "tk-8.6.12            | 3.1 MB    | ########2  |  82% \n",
      "tk-8.6.12            | 3.1 MB    | ########3  |  84% \n",
      "tk-8.6.12            | 3.1 MB    | ########5  |  85% \n",
      "tk-8.6.12            | 3.1 MB    | ########7  |  87% \n",
      "tk-8.6.12            | 3.1 MB    | ########8  |  89% \n",
      "tk-8.6.12            | 3.1 MB    | #########  |  90% \n",
      "tk-8.6.12            | 3.1 MB    | #########1 |  92% \n",
      "tk-8.6.12            | 3.1 MB    | #########3 |  93% \n",
      "tk-8.6.12            | 3.1 MB    | #########5 |  95% \n",
      "tk-8.6.12            | 3.1 MB    | #########7 |  97% \n",
      "tk-8.6.12            | 3.1 MB    | #########9 |  99% \n",
      "tk-8.6.12            | 3.1 MB    | ########## | 100% \n",
      "Preparing transaction: ...working... done\n",
      "Verifying transaction: ...working... done\n",
      "Executing transaction: ...working... done\n",
      "\n",
      "Note: you may need to restart the kernel to use updated packages.\n"
     ]
    },
    {
     "name": "stderr",
     "output_type": "stream",
     "text": [
      "\n",
      "\n",
      "==> WARNING: A newer version of conda exists. <==\n",
      "  current version: 4.10.3\n",
      "  latest version: 4.13.0\n",
      "\n",
      "Please update conda by running\n",
      "\n",
      "    $ conda update -n base -c defaults conda\n",
      "\n",
      "\n"
     ]
    }
   ],
   "source": [
    "conda update --all"
   ]
  },
  {
   "cell_type": "code",
   "execution_count": 81,
   "id": "7080ad1a",
   "metadata": {
    "id": "7080ad1a"
   },
   "outputs": [],
   "source": [
    "import pandas as pd\n",
    "import numpy as np\n",
    "import warnings\n",
    "import matplotlib.pyplot as plt\n",
    "import seaborn as sns\n",
    "\n",
    "sns.set()\n",
    "warnings.filterwarnings('ignore')"
   ]
  },
  {
   "cell_type": "code",
   "execution_count": 192,
   "id": "1d2aec89",
   "metadata": {
    "id": "1d2aec89",
    "scrolled": true
   },
   "outputs": [],
   "source": [
    "company = pd.read_csv(\"../ML_Internship/Dataset/companies.csv\")"
   ]
  },
  {
   "cell_type": "code",
   "execution_count": 127,
   "id": "cce7109f",
   "metadata": {
    "id": "cce7109f"
   },
   "outputs": [
    {
     "data": {
      "text/html": [
       "<div>\n",
       "<style scoped>\n",
       "    .dataframe tbody tr th:only-of-type {\n",
       "        vertical-align: middle;\n",
       "    }\n",
       "\n",
       "    .dataframe tbody tr th {\n",
       "        vertical-align: top;\n",
       "    }\n",
       "\n",
       "    .dataframe thead th {\n",
       "        text-align: right;\n",
       "    }\n",
       "</style>\n",
       "<table border=\"1\" class=\"dataframe\">\n",
       "  <thead>\n",
       "    <tr style=\"text-align: right;\">\n",
       "      <th></th>\n",
       "      <th>0</th>\n",
       "      <th>1</th>\n",
       "      <th>2</th>\n",
       "      <th>3</th>\n",
       "      <th>4</th>\n",
       "    </tr>\n",
       "  </thead>\n",
       "  <tbody>\n",
       "    <tr>\n",
       "      <th>id</th>\n",
       "      <td>c:1</td>\n",
       "      <td>c:10</td>\n",
       "      <td>c:100</td>\n",
       "      <td>c:10000</td>\n",
       "      <td>c:10001</td>\n",
       "    </tr>\n",
       "    <tr>\n",
       "      <th>Unnamed: 0.1</th>\n",
       "      <td>0</td>\n",
       "      <td>1</td>\n",
       "      <td>2</td>\n",
       "      <td>3</td>\n",
       "      <td>4</td>\n",
       "    </tr>\n",
       "    <tr>\n",
       "      <th>entity_type</th>\n",
       "      <td>Company</td>\n",
       "      <td>Company</td>\n",
       "      <td>Company</td>\n",
       "      <td>Company</td>\n",
       "      <td>Company</td>\n",
       "    </tr>\n",
       "    <tr>\n",
       "      <th>entity_id</th>\n",
       "      <td>1</td>\n",
       "      <td>10</td>\n",
       "      <td>100</td>\n",
       "      <td>10000</td>\n",
       "      <td>10001</td>\n",
       "    </tr>\n",
       "    <tr>\n",
       "      <th>parent_id</th>\n",
       "      <td>NaN</td>\n",
       "      <td>NaN</td>\n",
       "      <td>NaN</td>\n",
       "      <td>NaN</td>\n",
       "      <td>NaN</td>\n",
       "    </tr>\n",
       "    <tr>\n",
       "      <th>name</th>\n",
       "      <td>Wetpaint</td>\n",
       "      <td>Flektor</td>\n",
       "      <td>There</td>\n",
       "      <td>MYWEBBO</td>\n",
       "      <td>THE Movie Streamer</td>\n",
       "    </tr>\n",
       "    <tr>\n",
       "      <th>normalized_name</th>\n",
       "      <td>wetpaint</td>\n",
       "      <td>flektor</td>\n",
       "      <td>there</td>\n",
       "      <td>mywebbo</td>\n",
       "      <td>the movie streamer</td>\n",
       "    </tr>\n",
       "    <tr>\n",
       "      <th>permalink</th>\n",
       "      <td>/company/wetpaint</td>\n",
       "      <td>/company/flektor</td>\n",
       "      <td>/company/there</td>\n",
       "      <td>/company/mywebbo</td>\n",
       "      <td>/company/the-movie-streamer</td>\n",
       "    </tr>\n",
       "    <tr>\n",
       "      <th>category_code</th>\n",
       "      <td>web</td>\n",
       "      <td>games_video</td>\n",
       "      <td>games_video</td>\n",
       "      <td>network_hosting</td>\n",
       "      <td>games_video</td>\n",
       "    </tr>\n",
       "    <tr>\n",
       "      <th>status</th>\n",
       "      <td>operating</td>\n",
       "      <td>acquired</td>\n",
       "      <td>acquired</td>\n",
       "      <td>operating</td>\n",
       "      <td>operating</td>\n",
       "    </tr>\n",
       "    <tr>\n",
       "      <th>founded_at</th>\n",
       "      <td>2005-10-17</td>\n",
       "      <td>NaN</td>\n",
       "      <td>NaN</td>\n",
       "      <td>2008-07-26</td>\n",
       "      <td>2008-07-26</td>\n",
       "    </tr>\n",
       "    <tr>\n",
       "      <th>closed_at</th>\n",
       "      <td>NaN</td>\n",
       "      <td>NaN</td>\n",
       "      <td>NaN</td>\n",
       "      <td>NaN</td>\n",
       "      <td>NaN</td>\n",
       "    </tr>\n",
       "    <tr>\n",
       "      <th>domain</th>\n",
       "      <td>wetpaint-inc.com</td>\n",
       "      <td>flektor.com</td>\n",
       "      <td>there.com</td>\n",
       "      <td>mywebbo.com</td>\n",
       "      <td>themoviestreamer.com</td>\n",
       "    </tr>\n",
       "    <tr>\n",
       "      <th>homepage_url</th>\n",
       "      <td>http://wetpaint-inc.com</td>\n",
       "      <td>http://www.flektor.com</td>\n",
       "      <td>http://www.there.com</td>\n",
       "      <td>http://www.mywebbo.com</td>\n",
       "      <td>http://themoviestreamer.com</td>\n",
       "    </tr>\n",
       "    <tr>\n",
       "      <th>twitter_username</th>\n",
       "      <td>BachelrWetpaint</td>\n",
       "      <td>NaN</td>\n",
       "      <td>NaN</td>\n",
       "      <td>NaN</td>\n",
       "      <td>NaN</td>\n",
       "    </tr>\n",
       "    <tr>\n",
       "      <th>logo_url</th>\n",
       "      <td>http://s3.amazonaws.com/crunchbase_prod_assets...</td>\n",
       "      <td>http://s3.amazonaws.com/crunchbase_prod_assets...</td>\n",
       "      <td>http://s3.amazonaws.com/crunchbase_prod_assets...</td>\n",
       "      <td>NaN</td>\n",
       "      <td>http://s3.amazonaws.com/crunchbase_prod_assets...</td>\n",
       "    </tr>\n",
       "    <tr>\n",
       "      <th>logo_width</th>\n",
       "      <td>401.0</td>\n",
       "      <td>186.0</td>\n",
       "      <td>107.0</td>\n",
       "      <td>NaN</td>\n",
       "      <td>200.0</td>\n",
       "    </tr>\n",
       "    <tr>\n",
       "      <th>logo_height</th>\n",
       "      <td>54.0</td>\n",
       "      <td>85.0</td>\n",
       "      <td>34.0</td>\n",
       "      <td>NaN</td>\n",
       "      <td>74.0</td>\n",
       "    </tr>\n",
       "    <tr>\n",
       "      <th>short_description</th>\n",
       "      <td>NaN</td>\n",
       "      <td>NaN</td>\n",
       "      <td>NaN</td>\n",
       "      <td>NaN</td>\n",
       "      <td>NaN</td>\n",
       "    </tr>\n",
       "    <tr>\n",
       "      <th>description</th>\n",
       "      <td>Technology Platform Company</td>\n",
       "      <td>NaN</td>\n",
       "      <td>NaN</td>\n",
       "      <td>NaN</td>\n",
       "      <td>NaN</td>\n",
       "    </tr>\n",
       "    <tr>\n",
       "      <th>overview</th>\n",
       "      <td>Wetpaint is a technology platform company that...</td>\n",
       "      <td>Flektor is a rich-media mash-up platform that ...</td>\n",
       "      <td>There.com is an online virtual world where any...</td>\n",
       "      <td>BRAND NEW ONLINE SOCIAL NETWORKING WEBSITE,FOR...</td>\n",
       "      <td>This company shows free movies online on their...</td>\n",
       "    </tr>\n",
       "    <tr>\n",
       "      <th>tag_list</th>\n",
       "      <td>wiki, seattle, elowitz, media-industry, media-...</td>\n",
       "      <td>flektor, photo, video</td>\n",
       "      <td>virtualworld, there, teens</td>\n",
       "      <td>social-network, new, website, web, friends, ch...</td>\n",
       "      <td>watch, full-length, moives, online, for, free,...</td>\n",
       "    </tr>\n",
       "    <tr>\n",
       "      <th>country_code</th>\n",
       "      <td>USA</td>\n",
       "      <td>USA</td>\n",
       "      <td>USA</td>\n",
       "      <td>NaN</td>\n",
       "      <td>NaN</td>\n",
       "    </tr>\n",
       "    <tr>\n",
       "      <th>state_code</th>\n",
       "      <td>WA</td>\n",
       "      <td>CA</td>\n",
       "      <td>CA</td>\n",
       "      <td>NaN</td>\n",
       "      <td>NaN</td>\n",
       "    </tr>\n",
       "    <tr>\n",
       "      <th>city</th>\n",
       "      <td>Seattle</td>\n",
       "      <td>Culver City</td>\n",
       "      <td>San Mateo</td>\n",
       "      <td>NaN</td>\n",
       "      <td>NaN</td>\n",
       "    </tr>\n",
       "    <tr>\n",
       "      <th>region</th>\n",
       "      <td>Seattle</td>\n",
       "      <td>Los Angeles</td>\n",
       "      <td>SF Bay</td>\n",
       "      <td>unknown</td>\n",
       "      <td>unknown</td>\n",
       "    </tr>\n",
       "    <tr>\n",
       "      <th>first_investment_at</th>\n",
       "      <td>NaN</td>\n",
       "      <td>NaN</td>\n",
       "      <td>NaN</td>\n",
       "      <td>NaN</td>\n",
       "      <td>NaN</td>\n",
       "    </tr>\n",
       "    <tr>\n",
       "      <th>last_investment_at</th>\n",
       "      <td>NaN</td>\n",
       "      <td>NaN</td>\n",
       "      <td>NaN</td>\n",
       "      <td>NaN</td>\n",
       "      <td>NaN</td>\n",
       "    </tr>\n",
       "    <tr>\n",
       "      <th>investment_rounds</th>\n",
       "      <td>NaN</td>\n",
       "      <td>NaN</td>\n",
       "      <td>NaN</td>\n",
       "      <td>NaN</td>\n",
       "      <td>NaN</td>\n",
       "    </tr>\n",
       "    <tr>\n",
       "      <th>invested_companies</th>\n",
       "      <td>NaN</td>\n",
       "      <td>NaN</td>\n",
       "      <td>NaN</td>\n",
       "      <td>NaN</td>\n",
       "      <td>NaN</td>\n",
       "    </tr>\n",
       "    <tr>\n",
       "      <th>first_funding_at</th>\n",
       "      <td>2005-10-01</td>\n",
       "      <td>NaN</td>\n",
       "      <td>NaN</td>\n",
       "      <td>NaN</td>\n",
       "      <td>NaN</td>\n",
       "    </tr>\n",
       "    <tr>\n",
       "      <th>last_funding_at</th>\n",
       "      <td>2008-05-19</td>\n",
       "      <td>NaN</td>\n",
       "      <td>NaN</td>\n",
       "      <td>NaN</td>\n",
       "      <td>NaN</td>\n",
       "    </tr>\n",
       "    <tr>\n",
       "      <th>funding_rounds</th>\n",
       "      <td>3.0</td>\n",
       "      <td>NaN</td>\n",
       "      <td>NaN</td>\n",
       "      <td>NaN</td>\n",
       "      <td>NaN</td>\n",
       "    </tr>\n",
       "    <tr>\n",
       "      <th>funding_total_usd</th>\n",
       "      <td>39750000.0</td>\n",
       "      <td>NaN</td>\n",
       "      <td>NaN</td>\n",
       "      <td>NaN</td>\n",
       "      <td>NaN</td>\n",
       "    </tr>\n",
       "    <tr>\n",
       "      <th>first_milestone_at</th>\n",
       "      <td>2010-09-05</td>\n",
       "      <td>NaN</td>\n",
       "      <td>2003-02-01</td>\n",
       "      <td>NaN</td>\n",
       "      <td>NaN</td>\n",
       "    </tr>\n",
       "    <tr>\n",
       "      <th>last_milestone_at</th>\n",
       "      <td>2013-09-18</td>\n",
       "      <td>NaN</td>\n",
       "      <td>2011-09-23</td>\n",
       "      <td>NaN</td>\n",
       "      <td>NaN</td>\n",
       "    </tr>\n",
       "    <tr>\n",
       "      <th>milestones</th>\n",
       "      <td>5.0</td>\n",
       "      <td>NaN</td>\n",
       "      <td>4.0</td>\n",
       "      <td>NaN</td>\n",
       "      <td>NaN</td>\n",
       "    </tr>\n",
       "    <tr>\n",
       "      <th>relationships</th>\n",
       "      <td>17.0</td>\n",
       "      <td>6.0</td>\n",
       "      <td>12.0</td>\n",
       "      <td>NaN</td>\n",
       "      <td>NaN</td>\n",
       "    </tr>\n",
       "    <tr>\n",
       "      <th>created_by</th>\n",
       "      <td>initial-importer</td>\n",
       "      <td>initial-importer</td>\n",
       "      <td>initial-importer</td>\n",
       "      <td>NaN</td>\n",
       "      <td>NaN</td>\n",
       "    </tr>\n",
       "    <tr>\n",
       "      <th>created_at</th>\n",
       "      <td>2007-05-25 06:51:27</td>\n",
       "      <td>2007-05-31 21:11:51</td>\n",
       "      <td>2007-08-06 23:52:45</td>\n",
       "      <td>2008-08-24 16:51:57</td>\n",
       "      <td>2008-08-24 17:10:34</td>\n",
       "    </tr>\n",
       "    <tr>\n",
       "      <th>updated_at</th>\n",
       "      <td>2013-04-13 03:29:00</td>\n",
       "      <td>2008-05-23 23:23:14</td>\n",
       "      <td>2013-11-04 02:09:48</td>\n",
       "      <td>2008-09-06 14:19:18</td>\n",
       "      <td>2008-09-06 14:19:18</td>\n",
       "    </tr>\n",
       "    <tr>\n",
       "      <th>lat</th>\n",
       "      <td>47.606209</td>\n",
       "      <td>34.021122</td>\n",
       "      <td>37.562992</td>\n",
       "      <td>NaN</td>\n",
       "      <td>NaN</td>\n",
       "    </tr>\n",
       "    <tr>\n",
       "      <th>lng</th>\n",
       "      <td>-122.332071</td>\n",
       "      <td>-118.396467</td>\n",
       "      <td>-122.325525</td>\n",
       "      <td>NaN</td>\n",
       "      <td>NaN</td>\n",
       "    </tr>\n",
       "    <tr>\n",
       "      <th>ROI</th>\n",
       "      <td>15.5</td>\n",
       "      <td>NaN</td>\n",
       "      <td>NaN</td>\n",
       "      <td>NaN</td>\n",
       "      <td>NaN</td>\n",
       "    </tr>\n",
       "  </tbody>\n",
       "</table>\n",
       "</div>"
      ],
      "text/plain": [
       "                                                                     0  \\\n",
       "id                                                                 c:1   \n",
       "Unnamed: 0.1                                                         0   \n",
       "entity_type                                                    Company   \n",
       "entity_id                                                            1   \n",
       "parent_id                                                          NaN   \n",
       "name                                                          Wetpaint   \n",
       "normalized_name                                               wetpaint   \n",
       "permalink                                            /company/wetpaint   \n",
       "category_code                                                      web   \n",
       "status                                                       operating   \n",
       "founded_at                                                  2005-10-17   \n",
       "closed_at                                                          NaN   \n",
       "domain                                                wetpaint-inc.com   \n",
       "homepage_url                                   http://wetpaint-inc.com   \n",
       "twitter_username                                       BachelrWetpaint   \n",
       "logo_url             http://s3.amazonaws.com/crunchbase_prod_assets...   \n",
       "logo_width                                                       401.0   \n",
       "logo_height                                                       54.0   \n",
       "short_description                                                  NaN   \n",
       "description                                Technology Platform Company   \n",
       "overview             Wetpaint is a technology platform company that...   \n",
       "tag_list             wiki, seattle, elowitz, media-industry, media-...   \n",
       "country_code                                                       USA   \n",
       "state_code                                                          WA   \n",
       "city                                                           Seattle   \n",
       "region                                                         Seattle   \n",
       "first_investment_at                                                NaN   \n",
       "last_investment_at                                                 NaN   \n",
       "investment_rounds                                                  NaN   \n",
       "invested_companies                                                 NaN   \n",
       "first_funding_at                                            2005-10-01   \n",
       "last_funding_at                                             2008-05-19   \n",
       "funding_rounds                                                     3.0   \n",
       "funding_total_usd                                           39750000.0   \n",
       "first_milestone_at                                          2010-09-05   \n",
       "last_milestone_at                                           2013-09-18   \n",
       "milestones                                                         5.0   \n",
       "relationships                                                     17.0   \n",
       "created_by                                            initial-importer   \n",
       "created_at                                         2007-05-25 06:51:27   \n",
       "updated_at                                         2013-04-13 03:29:00   \n",
       "lat                                                          47.606209   \n",
       "lng                                                        -122.332071   \n",
       "ROI                                                               15.5   \n",
       "\n",
       "                                                                     1  \\\n",
       "id                                                                c:10   \n",
       "Unnamed: 0.1                                                         1   \n",
       "entity_type                                                    Company   \n",
       "entity_id                                                           10   \n",
       "parent_id                                                          NaN   \n",
       "name                                                           Flektor   \n",
       "normalized_name                                                flektor   \n",
       "permalink                                             /company/flektor   \n",
       "category_code                                              games_video   \n",
       "status                                                        acquired   \n",
       "founded_at                                                         NaN   \n",
       "closed_at                                                          NaN   \n",
       "domain                                                     flektor.com   \n",
       "homepage_url                                    http://www.flektor.com   \n",
       "twitter_username                                                   NaN   \n",
       "logo_url             http://s3.amazonaws.com/crunchbase_prod_assets...   \n",
       "logo_width                                                       186.0   \n",
       "logo_height                                                       85.0   \n",
       "short_description                                                  NaN   \n",
       "description                                                        NaN   \n",
       "overview             Flektor is a rich-media mash-up platform that ...   \n",
       "tag_list                                         flektor, photo, video   \n",
       "country_code                                                       USA   \n",
       "state_code                                                          CA   \n",
       "city                                                       Culver City   \n",
       "region                                                     Los Angeles   \n",
       "first_investment_at                                                NaN   \n",
       "last_investment_at                                                 NaN   \n",
       "investment_rounds                                                  NaN   \n",
       "invested_companies                                                 NaN   \n",
       "first_funding_at                                                   NaN   \n",
       "last_funding_at                                                    NaN   \n",
       "funding_rounds                                                     NaN   \n",
       "funding_total_usd                                                  NaN   \n",
       "first_milestone_at                                                 NaN   \n",
       "last_milestone_at                                                  NaN   \n",
       "milestones                                                         NaN   \n",
       "relationships                                                      6.0   \n",
       "created_by                                            initial-importer   \n",
       "created_at                                         2007-05-31 21:11:51   \n",
       "updated_at                                         2008-05-23 23:23:14   \n",
       "lat                                                          34.021122   \n",
       "lng                                                        -118.396467   \n",
       "ROI                                                                NaN   \n",
       "\n",
       "                                                                     2  \\\n",
       "id                                                               c:100   \n",
       "Unnamed: 0.1                                                         2   \n",
       "entity_type                                                    Company   \n",
       "entity_id                                                          100   \n",
       "parent_id                                                          NaN   \n",
       "name                                                             There   \n",
       "normalized_name                                                  there   \n",
       "permalink                                               /company/there   \n",
       "category_code                                              games_video   \n",
       "status                                                        acquired   \n",
       "founded_at                                                         NaN   \n",
       "closed_at                                                          NaN   \n",
       "domain                                                       there.com   \n",
       "homepage_url                                      http://www.there.com   \n",
       "twitter_username                                                   NaN   \n",
       "logo_url             http://s3.amazonaws.com/crunchbase_prod_assets...   \n",
       "logo_width                                                       107.0   \n",
       "logo_height                                                       34.0   \n",
       "short_description                                                  NaN   \n",
       "description                                                        NaN   \n",
       "overview             There.com is an online virtual world where any...   \n",
       "tag_list                                    virtualworld, there, teens   \n",
       "country_code                                                       USA   \n",
       "state_code                                                          CA   \n",
       "city                                                         San Mateo   \n",
       "region                                                          SF Bay   \n",
       "first_investment_at                                                NaN   \n",
       "last_investment_at                                                 NaN   \n",
       "investment_rounds                                                  NaN   \n",
       "invested_companies                                                 NaN   \n",
       "first_funding_at                                                   NaN   \n",
       "last_funding_at                                                    NaN   \n",
       "funding_rounds                                                     NaN   \n",
       "funding_total_usd                                                  NaN   \n",
       "first_milestone_at                                          2003-02-01   \n",
       "last_milestone_at                                           2011-09-23   \n",
       "milestones                                                         4.0   \n",
       "relationships                                                     12.0   \n",
       "created_by                                            initial-importer   \n",
       "created_at                                         2007-08-06 23:52:45   \n",
       "updated_at                                         2013-11-04 02:09:48   \n",
       "lat                                                          37.562992   \n",
       "lng                                                        -122.325525   \n",
       "ROI                                                                NaN   \n",
       "\n",
       "                                                                     3  \\\n",
       "id                                                             c:10000   \n",
       "Unnamed: 0.1                                                         3   \n",
       "entity_type                                                    Company   \n",
       "entity_id                                                        10000   \n",
       "parent_id                                                          NaN   \n",
       "name                                                           MYWEBBO   \n",
       "normalized_name                                                mywebbo   \n",
       "permalink                                             /company/mywebbo   \n",
       "category_code                                          network_hosting   \n",
       "status                                                       operating   \n",
       "founded_at                                                  2008-07-26   \n",
       "closed_at                                                          NaN   \n",
       "domain                                                     mywebbo.com   \n",
       "homepage_url                                    http://www.mywebbo.com   \n",
       "twitter_username                                                   NaN   \n",
       "logo_url                                                           NaN   \n",
       "logo_width                                                         NaN   \n",
       "logo_height                                                        NaN   \n",
       "short_description                                                  NaN   \n",
       "description                                                        NaN   \n",
       "overview             BRAND NEW ONLINE SOCIAL NETWORKING WEBSITE,FOR...   \n",
       "tag_list             social-network, new, website, web, friends, ch...   \n",
       "country_code                                                       NaN   \n",
       "state_code                                                         NaN   \n",
       "city                                                               NaN   \n",
       "region                                                         unknown   \n",
       "first_investment_at                                                NaN   \n",
       "last_investment_at                                                 NaN   \n",
       "investment_rounds                                                  NaN   \n",
       "invested_companies                                                 NaN   \n",
       "first_funding_at                                                   NaN   \n",
       "last_funding_at                                                    NaN   \n",
       "funding_rounds                                                     NaN   \n",
       "funding_total_usd                                                  NaN   \n",
       "first_milestone_at                                                 NaN   \n",
       "last_milestone_at                                                  NaN   \n",
       "milestones                                                         NaN   \n",
       "relationships                                                      NaN   \n",
       "created_by                                                         NaN   \n",
       "created_at                                         2008-08-24 16:51:57   \n",
       "updated_at                                         2008-09-06 14:19:18   \n",
       "lat                                                                NaN   \n",
       "lng                                                                NaN   \n",
       "ROI                                                                NaN   \n",
       "\n",
       "                                                                     4  \n",
       "id                                                             c:10001  \n",
       "Unnamed: 0.1                                                         4  \n",
       "entity_type                                                    Company  \n",
       "entity_id                                                        10001  \n",
       "parent_id                                                          NaN  \n",
       "name                                                THE Movie Streamer  \n",
       "normalized_name                                     the movie streamer  \n",
       "permalink                                  /company/the-movie-streamer  \n",
       "category_code                                              games_video  \n",
       "status                                                       operating  \n",
       "founded_at                                                  2008-07-26  \n",
       "closed_at                                                          NaN  \n",
       "domain                                            themoviestreamer.com  \n",
       "homepage_url                               http://themoviestreamer.com  \n",
       "twitter_username                                                   NaN  \n",
       "logo_url             http://s3.amazonaws.com/crunchbase_prod_assets...  \n",
       "logo_width                                                       200.0  \n",
       "logo_height                                                       74.0  \n",
       "short_description                                                  NaN  \n",
       "description                                                        NaN  \n",
       "overview             This company shows free movies online on their...  \n",
       "tag_list             watch, full-length, moives, online, for, free,...  \n",
       "country_code                                                       NaN  \n",
       "state_code                                                         NaN  \n",
       "city                                                               NaN  \n",
       "region                                                         unknown  \n",
       "first_investment_at                                                NaN  \n",
       "last_investment_at                                                 NaN  \n",
       "investment_rounds                                                  NaN  \n",
       "invested_companies                                                 NaN  \n",
       "first_funding_at                                                   NaN  \n",
       "last_funding_at                                                    NaN  \n",
       "funding_rounds                                                     NaN  \n",
       "funding_total_usd                                                  NaN  \n",
       "first_milestone_at                                                 NaN  \n",
       "last_milestone_at                                                  NaN  \n",
       "milestones                                                         NaN  \n",
       "relationships                                                      NaN  \n",
       "created_by                                                         NaN  \n",
       "created_at                                         2008-08-24 17:10:34  \n",
       "updated_at                                         2008-09-06 14:19:18  \n",
       "lat                                                                NaN  \n",
       "lng                                                                NaN  \n",
       "ROI                                                                NaN  "
      ]
     },
     "execution_count": 127,
     "metadata": {},
     "output_type": "execute_result"
    }
   ],
   "source": [
    "company.head().T"
   ]
  },
  {
   "cell_type": "code",
   "execution_count": 128,
   "id": "94e94941",
   "metadata": {},
   "outputs": [
    {
     "data": {
      "text/plain": [
       "2012-01-01    176\n",
       "2013-06-01    147\n",
       "2011-01-01     98\n",
       "2013-05-01     95\n",
       "2013-07-01     92\n",
       "             ... \n",
       "2009-07-09      1\n",
       "2008-12-10      1\n",
       "2011-02-05      1\n",
       "2009-08-24      1\n",
       "2012-07-03      1\n",
       "Name: closed_at, Length: 925, dtype: int64"
      ]
     },
     "execution_count": 128,
     "metadata": {},
     "output_type": "execute_result"
    }
   ],
   "source": [
    "company.closed_at.value_counts()"
   ]
  },
  {
   "cell_type": "code",
   "execution_count": 134,
   "id": "c6e1dde8",
   "metadata": {},
   "outputs": [
    {
     "data": {
      "text/plain": [
       "2012-01-01    176\n",
       "2013-06-01    147\n",
       "2011-01-01     98\n",
       "2013-05-01     95\n",
       "2013-07-01     92\n",
       "             ... \n",
       "2009-07-09      1\n",
       "2008-12-10      1\n",
       "2011-02-05      1\n",
       "2009-08-24      1\n",
       "2012-07-03      1\n",
       "Name: closed_at, Length: 925, dtype: int64"
      ]
     },
     "execution_count": 134,
     "metadata": {},
     "output_type": "execute_result"
    }
   ],
   "source": [
    "company.closed_at.value_counts()"
   ]
  },
  {
   "cell_type": "code",
   "execution_count": 84,
   "id": "74d126ce",
   "metadata": {
    "id": "74d126ce"
   },
   "outputs": [
    {
     "data": {
      "text/html": [
       "<div>\n",
       "<style scoped>\n",
       "    .dataframe tbody tr th:only-of-type {\n",
       "        vertical-align: middle;\n",
       "    }\n",
       "\n",
       "    .dataframe tbody tr th {\n",
       "        vertical-align: top;\n",
       "    }\n",
       "\n",
       "    .dataframe thead th {\n",
       "        text-align: right;\n",
       "    }\n",
       "</style>\n",
       "<table border=\"1\" class=\"dataframe\">\n",
       "  <thead>\n",
       "    <tr style=\"text-align: right;\">\n",
       "      <th></th>\n",
       "      <th>Unnamed: 0.1</th>\n",
       "      <th>entity_id</th>\n",
       "      <th>parent_id</th>\n",
       "      <th>logo_width</th>\n",
       "      <th>logo_height</th>\n",
       "      <th>investment_rounds</th>\n",
       "      <th>invested_companies</th>\n",
       "      <th>funding_rounds</th>\n",
       "      <th>funding_total_usd</th>\n",
       "      <th>milestones</th>\n",
       "      <th>relationships</th>\n",
       "      <th>lat</th>\n",
       "      <th>lng</th>\n",
       "      <th>ROI</th>\n",
       "    </tr>\n",
       "  </thead>\n",
       "  <tbody>\n",
       "    <tr>\n",
       "      <th>count</th>\n",
       "      <td>196553.000000</td>\n",
       "      <td>196553.000000</td>\n",
       "      <td>0.0</td>\n",
       "      <td>110110.000000</td>\n",
       "      <td>110110.000000</td>\n",
       "      <td>2591.000000</td>\n",
       "      <td>2591.000000</td>\n",
       "      <td>31707.000000</td>\n",
       "      <td>2.787400e+04</td>\n",
       "      <td>91699.000000</td>\n",
       "      <td>129667.000000</td>\n",
       "      <td>83852.000000</td>\n",
       "      <td>83852.000000</td>\n",
       "      <td>726.000000</td>\n",
       "    </tr>\n",
       "    <tr>\n",
       "      <th>mean</th>\n",
       "      <td>98276.000000</td>\n",
       "      <td>153006.227333</td>\n",
       "      <td>NaN</td>\n",
       "      <td>459.132685</td>\n",
       "      <td>222.728917</td>\n",
       "      <td>2.372057</td>\n",
       "      <td>2.204940</td>\n",
       "      <td>1.659760</td>\n",
       "      <td>1.481652e+07</td>\n",
       "      <td>1.199402</td>\n",
       "      <td>2.852067</td>\n",
       "      <td>37.564512</td>\n",
       "      <td>-52.123066</td>\n",
       "      <td>45.745037</td>\n",
       "    </tr>\n",
       "    <tr>\n",
       "      <th>std</th>\n",
       "      <td>56740.108067</td>\n",
       "      <td>90209.250941</td>\n",
       "      <td>NaN</td>\n",
       "      <td>594.982577</td>\n",
       "      <td>333.090722</td>\n",
       "      <td>12.173510</td>\n",
       "      <td>11.436955</td>\n",
       "      <td>1.201666</td>\n",
       "      <td>6.775937e+07</td>\n",
       "      <td>0.540099</td>\n",
       "      <td>9.100309</td>\n",
       "      <td>15.477102</td>\n",
       "      <td>70.049067</td>\n",
       "      <td>572.035638</td>\n",
       "    </tr>\n",
       "    <tr>\n",
       "      <th>min</th>\n",
       "      <td>0.000000</td>\n",
       "      <td>1.000000</td>\n",
       "      <td>NaN</td>\n",
       "      <td>1.000000</td>\n",
       "      <td>1.000000</td>\n",
       "      <td>1.000000</td>\n",
       "      <td>1.000000</td>\n",
       "      <td>1.000000</td>\n",
       "      <td>2.910000e+02</td>\n",
       "      <td>1.000000</td>\n",
       "      <td>1.000000</td>\n",
       "      <td>-50.942326</td>\n",
       "      <td>-159.497746</td>\n",
       "      <td>0.011111</td>\n",
       "    </tr>\n",
       "    <tr>\n",
       "      <th>25%</th>\n",
       "      <td>49138.000000</td>\n",
       "      <td>59850.000000</td>\n",
       "      <td>NaN</td>\n",
       "      <td>192.000000</td>\n",
       "      <td>70.000000</td>\n",
       "      <td>1.000000</td>\n",
       "      <td>1.000000</td>\n",
       "      <td>1.000000</td>\n",
       "      <td>5.000000e+05</td>\n",
       "      <td>1.000000</td>\n",
       "      <td>1.000000</td>\n",
       "      <td>34.052234</td>\n",
       "      <td>-111.940005</td>\n",
       "      <td>2.648879</td>\n",
       "    </tr>\n",
       "    <tr>\n",
       "      <th>50%</th>\n",
       "      <td>98276.000000</td>\n",
       "      <td>174539.000000</td>\n",
       "      <td>NaN</td>\n",
       "      <td>267.000000</td>\n",
       "      <td>105.000000</td>\n",
       "      <td>1.000000</td>\n",
       "      <td>1.000000</td>\n",
       "      <td>1.000000</td>\n",
       "      <td>2.564500e+06</td>\n",
       "      <td>1.000000</td>\n",
       "      <td>1.000000</td>\n",
       "      <td>39.768403</td>\n",
       "      <td>-77.036871</td>\n",
       "      <td>6.500497</td>\n",
       "    </tr>\n",
       "    <tr>\n",
       "      <th>75%</th>\n",
       "      <td>147414.000000</td>\n",
       "      <td>232655.000000</td>\n",
       "      <td>NaN</td>\n",
       "      <td>484.000000</td>\n",
       "      <td>232.000000</td>\n",
       "      <td>1.000000</td>\n",
       "      <td>1.000000</td>\n",
       "      <td>2.000000</td>\n",
       "      <td>1.100000e+07</td>\n",
       "      <td>1.000000</td>\n",
       "      <td>3.000000</td>\n",
       "      <td>45.421530</td>\n",
       "      <td>-0.127758</td>\n",
       "      <td>13.549900</td>\n",
       "    </tr>\n",
       "    <tr>\n",
       "      <th>max</th>\n",
       "      <td>196552.000000</td>\n",
       "      <td>286215.000000</td>\n",
       "      <td>NaN</td>\n",
       "      <td>18200.000000</td>\n",
       "      <td>9600.000000</td>\n",
       "      <td>478.000000</td>\n",
       "      <td>459.000000</td>\n",
       "      <td>15.000000</td>\n",
       "      <td>5.700000e+09</td>\n",
       "      <td>9.000000</td>\n",
       "      <td>1189.000000</td>\n",
       "      <td>77.553604</td>\n",
       "      <td>176.212549</td>\n",
       "      <td>13333.333333</td>\n",
       "    </tr>\n",
       "  </tbody>\n",
       "</table>\n",
       "</div>"
      ],
      "text/plain": [
       "        Unnamed: 0.1      entity_id  parent_id     logo_width    logo_height  \\\n",
       "count  196553.000000  196553.000000        0.0  110110.000000  110110.000000   \n",
       "mean    98276.000000  153006.227333        NaN     459.132685     222.728917   \n",
       "std     56740.108067   90209.250941        NaN     594.982577     333.090722   \n",
       "min         0.000000       1.000000        NaN       1.000000       1.000000   \n",
       "25%     49138.000000   59850.000000        NaN     192.000000      70.000000   \n",
       "50%     98276.000000  174539.000000        NaN     267.000000     105.000000   \n",
       "75%    147414.000000  232655.000000        NaN     484.000000     232.000000   \n",
       "max    196552.000000  286215.000000        NaN   18200.000000    9600.000000   \n",
       "\n",
       "       investment_rounds  invested_companies  funding_rounds  \\\n",
       "count        2591.000000         2591.000000    31707.000000   \n",
       "mean            2.372057            2.204940        1.659760   \n",
       "std            12.173510           11.436955        1.201666   \n",
       "min             1.000000            1.000000        1.000000   \n",
       "25%             1.000000            1.000000        1.000000   \n",
       "50%             1.000000            1.000000        1.000000   \n",
       "75%             1.000000            1.000000        2.000000   \n",
       "max           478.000000          459.000000       15.000000   \n",
       "\n",
       "       funding_total_usd    milestones  relationships           lat  \\\n",
       "count       2.787400e+04  91699.000000  129667.000000  83852.000000   \n",
       "mean        1.481652e+07      1.199402       2.852067     37.564512   \n",
       "std         6.775937e+07      0.540099       9.100309     15.477102   \n",
       "min         2.910000e+02      1.000000       1.000000    -50.942326   \n",
       "25%         5.000000e+05      1.000000       1.000000     34.052234   \n",
       "50%         2.564500e+06      1.000000       1.000000     39.768403   \n",
       "75%         1.100000e+07      1.000000       3.000000     45.421530   \n",
       "max         5.700000e+09      9.000000    1189.000000     77.553604   \n",
       "\n",
       "                lng           ROI  \n",
       "count  83852.000000    726.000000  \n",
       "mean     -52.123066     45.745037  \n",
       "std       70.049067    572.035638  \n",
       "min     -159.497746      0.011111  \n",
       "25%     -111.940005      2.648879  \n",
       "50%      -77.036871      6.500497  \n",
       "75%       -0.127758     13.549900  \n",
       "max      176.212549  13333.333333  "
      ]
     },
     "execution_count": 84,
     "metadata": {},
     "output_type": "execute_result"
    }
   ],
   "source": [
    "company.describe()"
   ]
  },
  {
   "cell_type": "code",
   "execution_count": 193,
   "id": "6bfc3e48",
   "metadata": {},
   "outputs": [],
   "source": [
    "replace_values = {'operating' : 0, 'ipo' : 0, 'acquired' : 1, 'closed': 1 }\n",
    "company = company.replace({\"status\": replace_values})"
   ]
  },
  {
   "cell_type": "code",
   "execution_count": 200,
   "id": "0315db4c",
   "metadata": {},
   "outputs": [
    {
     "data": {
      "text/html": [
       "<div>\n",
       "<style scoped>\n",
       "    .dataframe tbody tr th:only-of-type {\n",
       "        vertical-align: middle;\n",
       "    }\n",
       "\n",
       "    .dataframe tbody tr th {\n",
       "        vertical-align: top;\n",
       "    }\n",
       "\n",
       "    .dataframe thead th {\n",
       "        text-align: right;\n",
       "    }\n",
       "</style>\n",
       "<table border=\"1\" class=\"dataframe\">\n",
       "  <thead>\n",
       "    <tr style=\"text-align: right;\">\n",
       "      <th></th>\n",
       "      <th>id</th>\n",
       "      <th>Unnamed: 0.1</th>\n",
       "      <th>entity_type</th>\n",
       "      <th>entity_id</th>\n",
       "      <th>parent_id</th>\n",
       "      <th>name</th>\n",
       "      <th>normalized_name</th>\n",
       "      <th>permalink</th>\n",
       "      <th>category_code</th>\n",
       "      <th>status</th>\n",
       "      <th>...</th>\n",
       "      <th>last_milestone_at</th>\n",
       "      <th>milestones</th>\n",
       "      <th>relationships</th>\n",
       "      <th>created_by</th>\n",
       "      <th>created_at</th>\n",
       "      <th>updated_at</th>\n",
       "      <th>lat</th>\n",
       "      <th>lng</th>\n",
       "      <th>ROI</th>\n",
       "      <th>new</th>\n",
       "    </tr>\n",
       "  </thead>\n",
       "  <tbody>\n",
       "    <tr>\n",
       "      <th>0</th>\n",
       "      <td>c:1</td>\n",
       "      <td>0</td>\n",
       "      <td>Company</td>\n",
       "      <td>1</td>\n",
       "      <td>NaN</td>\n",
       "      <td>Wetpaint</td>\n",
       "      <td>wetpaint</td>\n",
       "      <td>/company/wetpaint</td>\n",
       "      <td>web</td>\n",
       "      <td>0</td>\n",
       "      <td>...</td>\n",
       "      <td>2013-09-18</td>\n",
       "      <td>5.0</td>\n",
       "      <td>17.0</td>\n",
       "      <td>initial-importer</td>\n",
       "      <td>2007-05-25 06:51:27</td>\n",
       "      <td>2013-04-13 03:29:00</td>\n",
       "      <td>47.606209</td>\n",
       "      <td>-122.332071</td>\n",
       "      <td>15.5</td>\n",
       "      <td>0</td>\n",
       "    </tr>\n",
       "    <tr>\n",
       "      <th>1</th>\n",
       "      <td>c:10</td>\n",
       "      <td>1</td>\n",
       "      <td>Company</td>\n",
       "      <td>10</td>\n",
       "      <td>NaN</td>\n",
       "      <td>Flektor</td>\n",
       "      <td>flektor</td>\n",
       "      <td>/company/flektor</td>\n",
       "      <td>games_video</td>\n",
       "      <td>1</td>\n",
       "      <td>...</td>\n",
       "      <td>NaN</td>\n",
       "      <td>NaN</td>\n",
       "      <td>6.0</td>\n",
       "      <td>initial-importer</td>\n",
       "      <td>2007-05-31 21:11:51</td>\n",
       "      <td>2008-05-23 23:23:14</td>\n",
       "      <td>34.021122</td>\n",
       "      <td>-118.396467</td>\n",
       "      <td>NaN</td>\n",
       "      <td>1</td>\n",
       "    </tr>\n",
       "    <tr>\n",
       "      <th>2</th>\n",
       "      <td>c:100</td>\n",
       "      <td>2</td>\n",
       "      <td>Company</td>\n",
       "      <td>100</td>\n",
       "      <td>NaN</td>\n",
       "      <td>There</td>\n",
       "      <td>there</td>\n",
       "      <td>/company/there</td>\n",
       "      <td>games_video</td>\n",
       "      <td>1</td>\n",
       "      <td>...</td>\n",
       "      <td>2011-09-23</td>\n",
       "      <td>4.0</td>\n",
       "      <td>12.0</td>\n",
       "      <td>initial-importer</td>\n",
       "      <td>2007-08-06 23:52:45</td>\n",
       "      <td>2013-11-04 02:09:48</td>\n",
       "      <td>37.562992</td>\n",
       "      <td>-122.325525</td>\n",
       "      <td>NaN</td>\n",
       "      <td>1</td>\n",
       "    </tr>\n",
       "    <tr>\n",
       "      <th>3</th>\n",
       "      <td>c:10000</td>\n",
       "      <td>3</td>\n",
       "      <td>Company</td>\n",
       "      <td>10000</td>\n",
       "      <td>NaN</td>\n",
       "      <td>MYWEBBO</td>\n",
       "      <td>mywebbo</td>\n",
       "      <td>/company/mywebbo</td>\n",
       "      <td>network_hosting</td>\n",
       "      <td>0</td>\n",
       "      <td>...</td>\n",
       "      <td>NaN</td>\n",
       "      <td>NaN</td>\n",
       "      <td>NaN</td>\n",
       "      <td>NaN</td>\n",
       "      <td>2008-08-24 16:51:57</td>\n",
       "      <td>2008-09-06 14:19:18</td>\n",
       "      <td>NaN</td>\n",
       "      <td>NaN</td>\n",
       "      <td>NaN</td>\n",
       "      <td>0</td>\n",
       "    </tr>\n",
       "    <tr>\n",
       "      <th>4</th>\n",
       "      <td>c:10001</td>\n",
       "      <td>4</td>\n",
       "      <td>Company</td>\n",
       "      <td>10001</td>\n",
       "      <td>NaN</td>\n",
       "      <td>THE Movie Streamer</td>\n",
       "      <td>the movie streamer</td>\n",
       "      <td>/company/the-movie-streamer</td>\n",
       "      <td>games_video</td>\n",
       "      <td>0</td>\n",
       "      <td>...</td>\n",
       "      <td>NaN</td>\n",
       "      <td>NaN</td>\n",
       "      <td>NaN</td>\n",
       "      <td>NaN</td>\n",
       "      <td>2008-08-24 17:10:34</td>\n",
       "      <td>2008-09-06 14:19:18</td>\n",
       "      <td>NaN</td>\n",
       "      <td>NaN</td>\n",
       "      <td>NaN</td>\n",
       "      <td>0</td>\n",
       "    </tr>\n",
       "  </tbody>\n",
       "</table>\n",
       "<p>5 rows × 45 columns</p>\n",
       "</div>"
      ],
      "text/plain": [
       "        id  Unnamed: 0.1 entity_type  entity_id  parent_id  \\\n",
       "0      c:1             0     Company          1        NaN   \n",
       "1     c:10             1     Company         10        NaN   \n",
       "2    c:100             2     Company        100        NaN   \n",
       "3  c:10000             3     Company      10000        NaN   \n",
       "4  c:10001             4     Company      10001        NaN   \n",
       "\n",
       "                 name     normalized_name                    permalink  \\\n",
       "0            Wetpaint            wetpaint            /company/wetpaint   \n",
       "1             Flektor             flektor             /company/flektor   \n",
       "2               There               there               /company/there   \n",
       "3             MYWEBBO             mywebbo             /company/mywebbo   \n",
       "4  THE Movie Streamer  the movie streamer  /company/the-movie-streamer   \n",
       "\n",
       "     category_code  status  ... last_milestone_at milestones relationships  \\\n",
       "0              web       0  ...        2013-09-18        5.0          17.0   \n",
       "1      games_video       1  ...               NaN        NaN           6.0   \n",
       "2      games_video       1  ...        2011-09-23        4.0          12.0   \n",
       "3  network_hosting       0  ...               NaN        NaN           NaN   \n",
       "4      games_video       0  ...               NaN        NaN           NaN   \n",
       "\n",
       "         created_by           created_at           updated_at        lat  \\\n",
       "0  initial-importer  2007-05-25 06:51:27  2013-04-13 03:29:00  47.606209   \n",
       "1  initial-importer  2007-05-31 21:11:51  2008-05-23 23:23:14  34.021122   \n",
       "2  initial-importer  2007-08-06 23:52:45  2013-11-04 02:09:48  37.562992   \n",
       "3               NaN  2008-08-24 16:51:57  2008-09-06 14:19:18        NaN   \n",
       "4               NaN  2008-08-24 17:10:34  2008-09-06 14:19:18        NaN   \n",
       "\n",
       "          lng   ROI new  \n",
       "0 -122.332071  15.5   0  \n",
       "1 -118.396467   NaN   1  \n",
       "2 -122.325525   NaN   1  \n",
       "3         NaN   NaN   0  \n",
       "4         NaN   NaN   0  \n",
       "\n",
       "[5 rows x 45 columns]"
      ]
     },
     "execution_count": 200,
     "metadata": {},
     "output_type": "execute_result"
    }
   ],
   "source": [
    "company.head()"
   ]
  },
  {
   "cell_type": "code",
   "execution_count": 198,
   "id": "3f9f9b31",
   "metadata": {},
   "outputs": [],
   "source": [
    "company[\"new\"] = company[\"status\"].fillna(company[\"new\"])"
   ]
  },
  {
   "cell_type": "code",
   "execution_count": 199,
   "id": "7d37a2f5",
   "metadata": {},
   "outputs": [
    {
     "data": {
      "text/plain": [
       "0    0\n",
       "1    1\n",
       "2    1\n",
       "3    0\n",
       "4    0\n",
       "Name: new, dtype: int64"
      ]
     },
     "execution_count": 199,
     "metadata": {},
     "output_type": "execute_result"
    }
   ],
   "source": [
    "company.new.head()"
   ]
  },
  {
   "cell_type": "code",
   "execution_count": 173,
   "id": "d16920a4",
   "metadata": {
    "id": "d16920a4"
   },
   "outputs": [
    {
     "data": {
      "text/plain": [
       "0    184575\n",
       "1     11978\n",
       "Name: status, dtype: int64"
      ]
     },
     "execution_count": 173,
     "metadata": {},
     "output_type": "execute_result"
    }
   ],
   "source": [
    "company[\"status\"] = c"
   ]
  },
  {
   "cell_type": "code",
   "execution_count": 167,
   "id": "cb3d02d5",
   "metadata": {},
   "outputs": [
    {
     "ename": "SyntaxError",
     "evalue": "'return' outside function (1307349162.py, line 3)",
     "output_type": "error",
     "traceback": [
      "\u001b[1;36m  Input \u001b[1;32mIn [167]\u001b[1;36m\u001b[0m\n\u001b[1;33m    return 0\u001b[0m\n\u001b[1;37m    ^\u001b[0m\n\u001b[1;31mSyntaxError\u001b[0m\u001b[1;31m:\u001b[0m 'return' outside function\n"
     ]
    }
   ],
   "source": [
    "for i in company[\"status\"]:\n",
    "        if i == \"operating\":\n",
    "            return 0\n",
    "        elif i == \"ipo\":\n",
    "            return 0\n",
    "                    \n",
    "        else:\n",
    "            return 1"
   ]
  },
  {
   "cell_type": "code",
   "execution_count": 165,
   "id": "008282b4",
   "metadata": {},
   "outputs": [
    {
     "data": {
      "text/plain": [
       "operating    183441\n",
       "acquired       9394\n",
       "closed         2584\n",
       "ipo            1134\n",
       "Name: status, dtype: int64"
      ]
     },
     "execution_count": 165,
     "metadata": {},
     "output_type": "execute_result"
    }
   ],
   "source": [
    "company.status.value_counts()"
   ]
  },
  {
   "cell_type": "code",
   "execution_count": 159,
   "id": "c9ec4a38",
   "metadata": {},
   "outputs": [
    {
     "data": {
      "text/html": [
       "<div>\n",
       "<style scoped>\n",
       "    .dataframe tbody tr th:only-of-type {\n",
       "        vertical-align: middle;\n",
       "    }\n",
       "\n",
       "    .dataframe tbody tr th {\n",
       "        vertical-align: top;\n",
       "    }\n",
       "\n",
       "    .dataframe thead th {\n",
       "        text-align: right;\n",
       "    }\n",
       "</style>\n",
       "<table border=\"1\" class=\"dataframe\">\n",
       "  <thead>\n",
       "    <tr style=\"text-align: right;\">\n",
       "      <th></th>\n",
       "      <th>id</th>\n",
       "      <th>Unnamed: 0.1</th>\n",
       "      <th>entity_type</th>\n",
       "      <th>entity_id</th>\n",
       "      <th>parent_id</th>\n",
       "      <th>name</th>\n",
       "      <th>normalized_name</th>\n",
       "      <th>permalink</th>\n",
       "      <th>category_code</th>\n",
       "      <th>status</th>\n",
       "      <th>...</th>\n",
       "      <th>first_milestone_at</th>\n",
       "      <th>last_milestone_at</th>\n",
       "      <th>milestones</th>\n",
       "      <th>relationships</th>\n",
       "      <th>created_by</th>\n",
       "      <th>created_at</th>\n",
       "      <th>updated_at</th>\n",
       "      <th>lat</th>\n",
       "      <th>lng</th>\n",
       "      <th>ROI</th>\n",
       "    </tr>\n",
       "  </thead>\n",
       "  <tbody>\n",
       "    <tr>\n",
       "      <th>0</th>\n",
       "      <td>c:1</td>\n",
       "      <td>0</td>\n",
       "      <td>Company</td>\n",
       "      <td>1</td>\n",
       "      <td>NaN</td>\n",
       "      <td>Wetpaint</td>\n",
       "      <td>wetpaint</td>\n",
       "      <td>/company/wetpaint</td>\n",
       "      <td>web</td>\n",
       "      <td>operating</td>\n",
       "      <td>...</td>\n",
       "      <td>2010-09-05</td>\n",
       "      <td>2013-09-18</td>\n",
       "      <td>5.0</td>\n",
       "      <td>17.0</td>\n",
       "      <td>initial-importer</td>\n",
       "      <td>2007-05-25 06:51:27</td>\n",
       "      <td>2013-04-13 03:29:00</td>\n",
       "      <td>47.606209</td>\n",
       "      <td>-122.332071</td>\n",
       "      <td>15.5</td>\n",
       "    </tr>\n",
       "    <tr>\n",
       "      <th>1</th>\n",
       "      <td>c:10</td>\n",
       "      <td>1</td>\n",
       "      <td>Company</td>\n",
       "      <td>10</td>\n",
       "      <td>NaN</td>\n",
       "      <td>Flektor</td>\n",
       "      <td>flektor</td>\n",
       "      <td>/company/flektor</td>\n",
       "      <td>games_video</td>\n",
       "      <td>operating</td>\n",
       "      <td>...</td>\n",
       "      <td>NaN</td>\n",
       "      <td>NaN</td>\n",
       "      <td>NaN</td>\n",
       "      <td>6.0</td>\n",
       "      <td>initial-importer</td>\n",
       "      <td>2007-05-31 21:11:51</td>\n",
       "      <td>2008-05-23 23:23:14</td>\n",
       "      <td>34.021122</td>\n",
       "      <td>-118.396467</td>\n",
       "      <td>NaN</td>\n",
       "    </tr>\n",
       "    <tr>\n",
       "      <th>2</th>\n",
       "      <td>c:100</td>\n",
       "      <td>2</td>\n",
       "      <td>Company</td>\n",
       "      <td>100</td>\n",
       "      <td>NaN</td>\n",
       "      <td>There</td>\n",
       "      <td>there</td>\n",
       "      <td>/company/there</td>\n",
       "      <td>games_video</td>\n",
       "      <td>operating</td>\n",
       "      <td>...</td>\n",
       "      <td>2003-02-01</td>\n",
       "      <td>2011-09-23</td>\n",
       "      <td>4.0</td>\n",
       "      <td>12.0</td>\n",
       "      <td>initial-importer</td>\n",
       "      <td>2007-08-06 23:52:45</td>\n",
       "      <td>2013-11-04 02:09:48</td>\n",
       "      <td>37.562992</td>\n",
       "      <td>-122.325525</td>\n",
       "      <td>NaN</td>\n",
       "    </tr>\n",
       "    <tr>\n",
       "      <th>3</th>\n",
       "      <td>c:10000</td>\n",
       "      <td>3</td>\n",
       "      <td>Company</td>\n",
       "      <td>10000</td>\n",
       "      <td>NaN</td>\n",
       "      <td>MYWEBBO</td>\n",
       "      <td>mywebbo</td>\n",
       "      <td>/company/mywebbo</td>\n",
       "      <td>network_hosting</td>\n",
       "      <td>operating</td>\n",
       "      <td>...</td>\n",
       "      <td>NaN</td>\n",
       "      <td>NaN</td>\n",
       "      <td>NaN</td>\n",
       "      <td>NaN</td>\n",
       "      <td>NaN</td>\n",
       "      <td>2008-08-24 16:51:57</td>\n",
       "      <td>2008-09-06 14:19:18</td>\n",
       "      <td>NaN</td>\n",
       "      <td>NaN</td>\n",
       "      <td>NaN</td>\n",
       "    </tr>\n",
       "    <tr>\n",
       "      <th>4</th>\n",
       "      <td>c:10001</td>\n",
       "      <td>4</td>\n",
       "      <td>Company</td>\n",
       "      <td>10001</td>\n",
       "      <td>NaN</td>\n",
       "      <td>THE Movie Streamer</td>\n",
       "      <td>the movie streamer</td>\n",
       "      <td>/company/the-movie-streamer</td>\n",
       "      <td>games_video</td>\n",
       "      <td>operating</td>\n",
       "      <td>...</td>\n",
       "      <td>NaN</td>\n",
       "      <td>NaN</td>\n",
       "      <td>NaN</td>\n",
       "      <td>NaN</td>\n",
       "      <td>NaN</td>\n",
       "      <td>2008-08-24 17:10:34</td>\n",
       "      <td>2008-09-06 14:19:18</td>\n",
       "      <td>NaN</td>\n",
       "      <td>NaN</td>\n",
       "      <td>NaN</td>\n",
       "    </tr>\n",
       "  </tbody>\n",
       "</table>\n",
       "<p>5 rows × 44 columns</p>\n",
       "</div>"
      ],
      "text/plain": [
       "        id  Unnamed: 0.1 entity_type  entity_id  parent_id  \\\n",
       "0      c:1             0     Company          1        NaN   \n",
       "1     c:10             1     Company         10        NaN   \n",
       "2    c:100             2     Company        100        NaN   \n",
       "3  c:10000             3     Company      10000        NaN   \n",
       "4  c:10001             4     Company      10001        NaN   \n",
       "\n",
       "                 name     normalized_name                    permalink  \\\n",
       "0            Wetpaint            wetpaint            /company/wetpaint   \n",
       "1             Flektor             flektor             /company/flektor   \n",
       "2               There               there               /company/there   \n",
       "3             MYWEBBO             mywebbo             /company/mywebbo   \n",
       "4  THE Movie Streamer  the movie streamer  /company/the-movie-streamer   \n",
       "\n",
       "     category_code     status  ... first_milestone_at last_milestone_at  \\\n",
       "0              web  operating  ...         2010-09-05        2013-09-18   \n",
       "1      games_video  operating  ...                NaN               NaN   \n",
       "2      games_video  operating  ...         2003-02-01        2011-09-23   \n",
       "3  network_hosting  operating  ...                NaN               NaN   \n",
       "4      games_video  operating  ...                NaN               NaN   \n",
       "\n",
       "  milestones relationships        created_by           created_at  \\\n",
       "0        5.0          17.0  initial-importer  2007-05-25 06:51:27   \n",
       "1        NaN           6.0  initial-importer  2007-05-31 21:11:51   \n",
       "2        4.0          12.0  initial-importer  2007-08-06 23:52:45   \n",
       "3        NaN           NaN               NaN  2008-08-24 16:51:57   \n",
       "4        NaN           NaN               NaN  2008-08-24 17:10:34   \n",
       "\n",
       "            updated_at        lat         lng   ROI  \n",
       "0  2013-04-13 03:29:00  47.606209 -122.332071  15.5  \n",
       "1  2008-05-23 23:23:14  34.021122 -118.396467   NaN  \n",
       "2  2013-11-04 02:09:48  37.562992 -122.325525   NaN  \n",
       "3  2008-09-06 14:19:18        NaN         NaN   NaN  \n",
       "4  2008-09-06 14:19:18        NaN         NaN   NaN  \n",
       "\n",
       "[5 rows x 44 columns]"
      ]
     },
     "execution_count": 159,
     "metadata": {},
     "output_type": "execute_result"
    }
   ],
   "source": [
    "company.head()"
   ]
  },
  {
   "cell_type": "markdown",
   "id": "4c64bc32",
   "metadata": {},
   "source": []
  },
  {
   "cell_type": "code",
   "execution_count": 86,
   "id": "1d21e3cd",
   "metadata": {},
   "outputs": [
    {
     "data": {
      "text/plain": [
       "id                          0\n",
       "Unnamed: 0.1                0\n",
       "entity_type                 0\n",
       "entity_id                   0\n",
       "parent_id              196553\n",
       "name                       22\n",
       "normalized_name            26\n",
       "permalink                   0\n",
       "category_code           73367\n",
       "status                      0\n",
       "founded_at             105326\n",
       "closed_at              193933\n",
       "domain                  70008\n",
       "homepage_url            70008\n",
       "twitter_username       115962\n",
       "logo_url                86443\n",
       "logo_width              86443\n",
       "logo_height             86443\n",
       "short_description      189422\n",
       "description            104505\n",
       "overview                69582\n",
       "tag_list               115101\n",
       "country_code           108563\n",
       "state_code             145650\n",
       "city                   112663\n",
       "region                      0\n",
       "first_investment_at    193970\n",
       "last_investment_at     193970\n",
       "investment_rounds      193962\n",
       "invested_companies     193962\n",
       "first_funding_at       165046\n",
       "last_funding_at        165046\n",
       "funding_rounds         164846\n",
       "funding_total_usd      168679\n",
       "first_milestone_at     104854\n",
       "last_milestone_at      104854\n",
       "milestones             104854\n",
       "relationships           66886\n",
       "created_by              41020\n",
       "created_at                  0\n",
       "updated_at                  0\n",
       "lat                    112701\n",
       "lng                    112701\n",
       "ROI                    195827\n",
       "dtype: int64"
      ]
     },
     "execution_count": 86,
     "metadata": {},
     "output_type": "execute_result"
    }
   ],
   "source": [
    "company.isnull().sum()"
   ]
  },
  {
   "cell_type": "markdown",
   "id": "b2c1d84a",
   "metadata": {
    "id": "b2c1d84a"
   },
   "source": [
    "## A. Data Cleaning\n",
    "    1. Delete irrelevant & redundant information\n",
    "    2. Remove noise or unreliable data (missing values and outliers)\n",
    "    \n",
    "### 1. Delete irrelevant and redundant information\n",
    "     a. Delete 'region','city','state_code' as they provide too much of granularity.\n",
    "     b. Delete 'id', 'Unnamed: 0.1', 'entity_type', 'entity_id', 'parent_id', 'created_by',\n",
    "       'created_at', 'updated_at' as they are redundant.\n",
    "     c. Delete 'domain', 'homepage_url', 'twitter_username', 'logo_url', 'logo_width', 'logo_height',           \n",
    "        'short_description', 'description', 'overview','tag_list', 'name', 'normalized_name', 'permalink',    \n",
    "        'invested_companies' as they are irrelevant features.\n",
    "     d. Delete duplicate values if any.\n",
    "     e. Delete those which has more than 98% of null values.\n",
    "     \n",
    "### 2. Remove noise or unreliable data (missing values and outliers)\n",
    "     a. Delete instances with missing values for 'status', 'country_code', 'category_code' and 'founded_at'.\n",
    "     b. Delete outliers for 'funding_total_usd' and 'funding_rounds'.\n",
    "     c. Delete contradictory (mutually opposed or inconsistent data)."
   ]
  },
  {
   "cell_type": "markdown",
   "id": "8ad89355",
   "metadata": {
    "id": "8ad89355"
   },
   "source": [
    "#### 1.a. Delete 'region','city' as they provide too much of granularity.    "
   ]
  },
  {
   "cell_type": "code",
   "execution_count": 87,
   "id": "3aa976b4",
   "metadata": {
    "id": "3aa976b4",
    "scrolled": true
   },
   "outputs": [],
   "source": [
    "company.drop(\"region\", axis = 1, inplace = True)\n",
    "company.drop(\"city\", axis = 1, inplace = True)"
   ]
  },
  {
   "cell_type": "markdown",
   "id": "32384c4b",
   "metadata": {
    "id": "32384c4b"
   },
   "source": [
    "#### 1.b. Delete 'id', 'Unnamed: 0.1', 'entity_type', 'entity_id', 'parent_id', 'created_by', 'created_at', 'updated_at' as they are redundant."
   ]
  },
  {
   "cell_type": "code",
   "execution_count": 88,
   "id": "1207e29d",
   "metadata": {
    "id": "1207e29d"
   },
   "outputs": [],
   "source": [
    "#Type your code here!\n",
    "company.drop(['id', 'Unnamed: 0.1', 'entity_type', 'entity_id', 'parent_id', 'created_at', 'updated_at'], inplace = True, axis = 1)"
   ]
  },
  {
   "cell_type": "markdown",
   "id": "51eedcef",
   "metadata": {
    "id": "51eedcef"
   },
   "source": [
    "#### 1.c. Delete 'domain', 'homepage_url', 'twitter_username', 'logo_url', 'logo_width', 'logo_height',  'short_description',    'description',  'overview','tag_list', 'name', 'normalized_name', 'permalink', 'invested_companies' as they are irrelevant features."
   ]
  },
  {
   "cell_type": "code",
   "execution_count": 89,
   "id": "b8e058a3",
   "metadata": {
    "id": "b8e058a3"
   },
   "outputs": [],
   "source": [
    "#Type your code here!\n",
    "company.drop(['domain', 'homepage_url', 'twitter_username', 'logo_url', 'logo_width', 'logo_height', \n",
    "              'short_description', 'description', 'overview', 'tag_list', 'name', 'normalized_name',\n",
    "              'permalink', 'invested_companies'], inplace = True, axis = 1)"
   ]
  },
  {
   "cell_type": "code",
   "execution_count": 90,
   "id": "358c8e22",
   "metadata": {},
   "outputs": [
    {
     "data": {
      "text/html": [
       "<div>\n",
       "<style scoped>\n",
       "    .dataframe tbody tr th:only-of-type {\n",
       "        vertical-align: middle;\n",
       "    }\n",
       "\n",
       "    .dataframe tbody tr th {\n",
       "        vertical-align: top;\n",
       "    }\n",
       "\n",
       "    .dataframe thead th {\n",
       "        text-align: right;\n",
       "    }\n",
       "</style>\n",
       "<table border=\"1\" class=\"dataframe\">\n",
       "  <thead>\n",
       "    <tr style=\"text-align: right;\">\n",
       "      <th></th>\n",
       "      <th>0</th>\n",
       "      <th>1</th>\n",
       "      <th>2</th>\n",
       "      <th>3</th>\n",
       "      <th>4</th>\n",
       "    </tr>\n",
       "  </thead>\n",
       "  <tbody>\n",
       "    <tr>\n",
       "      <th>category_code</th>\n",
       "      <td>web</td>\n",
       "      <td>games_video</td>\n",
       "      <td>games_video</td>\n",
       "      <td>network_hosting</td>\n",
       "      <td>games_video</td>\n",
       "    </tr>\n",
       "    <tr>\n",
       "      <th>status</th>\n",
       "      <td>operating</td>\n",
       "      <td>acquired</td>\n",
       "      <td>acquired</td>\n",
       "      <td>operating</td>\n",
       "      <td>operating</td>\n",
       "    </tr>\n",
       "    <tr>\n",
       "      <th>founded_at</th>\n",
       "      <td>2005-10-17</td>\n",
       "      <td>NaN</td>\n",
       "      <td>NaN</td>\n",
       "      <td>2008-07-26</td>\n",
       "      <td>2008-07-26</td>\n",
       "    </tr>\n",
       "    <tr>\n",
       "      <th>closed_at</th>\n",
       "      <td>NaN</td>\n",
       "      <td>NaN</td>\n",
       "      <td>NaN</td>\n",
       "      <td>NaN</td>\n",
       "      <td>NaN</td>\n",
       "    </tr>\n",
       "    <tr>\n",
       "      <th>country_code</th>\n",
       "      <td>USA</td>\n",
       "      <td>USA</td>\n",
       "      <td>USA</td>\n",
       "      <td>NaN</td>\n",
       "      <td>NaN</td>\n",
       "    </tr>\n",
       "    <tr>\n",
       "      <th>state_code</th>\n",
       "      <td>WA</td>\n",
       "      <td>CA</td>\n",
       "      <td>CA</td>\n",
       "      <td>NaN</td>\n",
       "      <td>NaN</td>\n",
       "    </tr>\n",
       "    <tr>\n",
       "      <th>first_investment_at</th>\n",
       "      <td>NaN</td>\n",
       "      <td>NaN</td>\n",
       "      <td>NaN</td>\n",
       "      <td>NaN</td>\n",
       "      <td>NaN</td>\n",
       "    </tr>\n",
       "    <tr>\n",
       "      <th>last_investment_at</th>\n",
       "      <td>NaN</td>\n",
       "      <td>NaN</td>\n",
       "      <td>NaN</td>\n",
       "      <td>NaN</td>\n",
       "      <td>NaN</td>\n",
       "    </tr>\n",
       "    <tr>\n",
       "      <th>investment_rounds</th>\n",
       "      <td>NaN</td>\n",
       "      <td>NaN</td>\n",
       "      <td>NaN</td>\n",
       "      <td>NaN</td>\n",
       "      <td>NaN</td>\n",
       "    </tr>\n",
       "    <tr>\n",
       "      <th>first_funding_at</th>\n",
       "      <td>2005-10-01</td>\n",
       "      <td>NaN</td>\n",
       "      <td>NaN</td>\n",
       "      <td>NaN</td>\n",
       "      <td>NaN</td>\n",
       "    </tr>\n",
       "    <tr>\n",
       "      <th>last_funding_at</th>\n",
       "      <td>2008-05-19</td>\n",
       "      <td>NaN</td>\n",
       "      <td>NaN</td>\n",
       "      <td>NaN</td>\n",
       "      <td>NaN</td>\n",
       "    </tr>\n",
       "    <tr>\n",
       "      <th>funding_rounds</th>\n",
       "      <td>3.0</td>\n",
       "      <td>NaN</td>\n",
       "      <td>NaN</td>\n",
       "      <td>NaN</td>\n",
       "      <td>NaN</td>\n",
       "    </tr>\n",
       "    <tr>\n",
       "      <th>funding_total_usd</th>\n",
       "      <td>39750000.0</td>\n",
       "      <td>NaN</td>\n",
       "      <td>NaN</td>\n",
       "      <td>NaN</td>\n",
       "      <td>NaN</td>\n",
       "    </tr>\n",
       "    <tr>\n",
       "      <th>first_milestone_at</th>\n",
       "      <td>2010-09-05</td>\n",
       "      <td>NaN</td>\n",
       "      <td>2003-02-01</td>\n",
       "      <td>NaN</td>\n",
       "      <td>NaN</td>\n",
       "    </tr>\n",
       "    <tr>\n",
       "      <th>last_milestone_at</th>\n",
       "      <td>2013-09-18</td>\n",
       "      <td>NaN</td>\n",
       "      <td>2011-09-23</td>\n",
       "      <td>NaN</td>\n",
       "      <td>NaN</td>\n",
       "    </tr>\n",
       "    <tr>\n",
       "      <th>milestones</th>\n",
       "      <td>5.0</td>\n",
       "      <td>NaN</td>\n",
       "      <td>4.0</td>\n",
       "      <td>NaN</td>\n",
       "      <td>NaN</td>\n",
       "    </tr>\n",
       "    <tr>\n",
       "      <th>relationships</th>\n",
       "      <td>17.0</td>\n",
       "      <td>6.0</td>\n",
       "      <td>12.0</td>\n",
       "      <td>NaN</td>\n",
       "      <td>NaN</td>\n",
       "    </tr>\n",
       "    <tr>\n",
       "      <th>created_by</th>\n",
       "      <td>initial-importer</td>\n",
       "      <td>initial-importer</td>\n",
       "      <td>initial-importer</td>\n",
       "      <td>NaN</td>\n",
       "      <td>NaN</td>\n",
       "    </tr>\n",
       "    <tr>\n",
       "      <th>lat</th>\n",
       "      <td>47.606209</td>\n",
       "      <td>34.021122</td>\n",
       "      <td>37.562992</td>\n",
       "      <td>NaN</td>\n",
       "      <td>NaN</td>\n",
       "    </tr>\n",
       "    <tr>\n",
       "      <th>lng</th>\n",
       "      <td>-122.332071</td>\n",
       "      <td>-118.396467</td>\n",
       "      <td>-122.325525</td>\n",
       "      <td>NaN</td>\n",
       "      <td>NaN</td>\n",
       "    </tr>\n",
       "    <tr>\n",
       "      <th>ROI</th>\n",
       "      <td>15.5</td>\n",
       "      <td>NaN</td>\n",
       "      <td>NaN</td>\n",
       "      <td>NaN</td>\n",
       "      <td>NaN</td>\n",
       "    </tr>\n",
       "  </tbody>\n",
       "</table>\n",
       "</div>"
      ],
      "text/plain": [
       "                                    0                 1                 2  \\\n",
       "category_code                     web       games_video       games_video   \n",
       "status                      operating          acquired          acquired   \n",
       "founded_at                 2005-10-17               NaN               NaN   \n",
       "closed_at                         NaN               NaN               NaN   \n",
       "country_code                      USA               USA               USA   \n",
       "state_code                         WA                CA                CA   \n",
       "first_investment_at               NaN               NaN               NaN   \n",
       "last_investment_at                NaN               NaN               NaN   \n",
       "investment_rounds                 NaN               NaN               NaN   \n",
       "first_funding_at           2005-10-01               NaN               NaN   \n",
       "last_funding_at            2008-05-19               NaN               NaN   \n",
       "funding_rounds                    3.0               NaN               NaN   \n",
       "funding_total_usd          39750000.0               NaN               NaN   \n",
       "first_milestone_at         2010-09-05               NaN        2003-02-01   \n",
       "last_milestone_at          2013-09-18               NaN        2011-09-23   \n",
       "milestones                        5.0               NaN               4.0   \n",
       "relationships                    17.0               6.0              12.0   \n",
       "created_by           initial-importer  initial-importer  initial-importer   \n",
       "lat                         47.606209         34.021122         37.562992   \n",
       "lng                       -122.332071       -118.396467       -122.325525   \n",
       "ROI                              15.5               NaN               NaN   \n",
       "\n",
       "                                   3            4  \n",
       "category_code        network_hosting  games_video  \n",
       "status                     operating    operating  \n",
       "founded_at                2008-07-26   2008-07-26  \n",
       "closed_at                        NaN          NaN  \n",
       "country_code                     NaN          NaN  \n",
       "state_code                       NaN          NaN  \n",
       "first_investment_at              NaN          NaN  \n",
       "last_investment_at               NaN          NaN  \n",
       "investment_rounds                NaN          NaN  \n",
       "first_funding_at                 NaN          NaN  \n",
       "last_funding_at                  NaN          NaN  \n",
       "funding_rounds                   NaN          NaN  \n",
       "funding_total_usd                NaN          NaN  \n",
       "first_milestone_at               NaN          NaN  \n",
       "last_milestone_at                NaN          NaN  \n",
       "milestones                       NaN          NaN  \n",
       "relationships                    NaN          NaN  \n",
       "created_by                       NaN          NaN  \n",
       "lat                              NaN          NaN  \n",
       "lng                              NaN          NaN  \n",
       "ROI                              NaN          NaN  "
      ]
     },
     "execution_count": 90,
     "metadata": {},
     "output_type": "execute_result"
    }
   ],
   "source": [
    "# Checking the remaining data or columns\n",
    "company.head().T"
   ]
  },
  {
   "cell_type": "code",
   "execution_count": 91,
   "id": "41436ba1",
   "metadata": {},
   "outputs": [
    {
     "data": {
      "text/plain": [
       "category_code           object\n",
       "status                  object\n",
       "founded_at              object\n",
       "closed_at               object\n",
       "country_code            object\n",
       "state_code              object\n",
       "first_investment_at     object\n",
       "last_investment_at      object\n",
       "investment_rounds      float64\n",
       "first_funding_at        object\n",
       "last_funding_at         object\n",
       "funding_rounds         float64\n",
       "funding_total_usd      float64\n",
       "first_milestone_at      object\n",
       "last_milestone_at       object\n",
       "milestones             float64\n",
       "relationships          float64\n",
       "created_by              object\n",
       "lat                    float64\n",
       "lng                    float64\n",
       "ROI                    float64\n",
       "dtype: object"
      ]
     },
     "execution_count": 91,
     "metadata": {},
     "output_type": "execute_result"
    }
   ],
   "source": [
    "company.dtypes"
   ]
  },
  {
   "cell_type": "code",
   "execution_count": 92,
   "id": "1ed84e51",
   "metadata": {},
   "outputs": [
    {
     "data": {
      "text/plain": [
       "category_code           73367\n",
       "status                      0\n",
       "founded_at             105326\n",
       "closed_at              193933\n",
       "country_code           108563\n",
       "state_code             145650\n",
       "first_investment_at    193970\n",
       "last_investment_at     193970\n",
       "investment_rounds      193962\n",
       "first_funding_at       165046\n",
       "last_funding_at        165046\n",
       "funding_rounds         164846\n",
       "funding_total_usd      168679\n",
       "first_milestone_at     104854\n",
       "last_milestone_at      104854\n",
       "milestones             104854\n",
       "relationships           66886\n",
       "created_by              41020\n",
       "lat                    112701\n",
       "lng                    112701\n",
       "ROI                    195827\n",
       "dtype: int64"
      ]
     },
     "execution_count": 92,
     "metadata": {},
     "output_type": "execute_result"
    }
   ],
   "source": [
    "company.isnull().sum()"
   ]
  },
  {
   "cell_type": "code",
   "execution_count": 93,
   "id": "b67d3c6b",
   "metadata": {},
   "outputs": [],
   "source": [
    "#company['category_code'] = company.category_code.astype('category')"
   ]
  },
  {
   "cell_type": "code",
   "execution_count": 109,
   "id": "71b3aca8",
   "metadata": {},
   "outputs": [],
   "source": [
    "#company.category_code.mode()\n",
    "company = company.dropna(subset=['category_code', 'founded_at', 'closed_at', 'country_code', 'first_investment_at', 'last_investment_at',\n",
    "                       'first_funding_at', 'last_funding_at', 'first_milestone_at', 'last_milestone_at', 'created_by',\n",
    "                       'investment_rounds', 'funding_rounds', 'funding_total_usd', 'milestones', 'relationships', 'lat',\n",
    "                       'lng', 'ROI'])"
   ]
  },
  {
   "cell_type": "code",
   "execution_count": 96,
   "id": "8ede5f3a",
   "metadata": {},
   "outputs": [
    {
     "data": {
      "text/plain": [
       "category_code          123186\n",
       "status                 196553\n",
       "founded_at              91227\n",
       "closed_at                2620\n",
       "country_code            87990\n",
       "state_code              50903\n",
       "first_investment_at      2583\n",
       "last_investment_at       2583\n",
       "investment_rounds        2591\n",
       "first_funding_at        31507\n",
       "last_funding_at         31507\n",
       "funding_rounds          31707\n",
       "funding_total_usd       27874\n",
       "first_milestone_at      91699\n",
       "last_milestone_at       91699\n",
       "milestones              91699\n",
       "relationships          129667\n",
       "created_by             155533\n",
       "lat                     83852\n",
       "lng                     83852\n",
       "ROI                       726\n",
       "dtype: int64"
      ]
     },
     "execution_count": 96,
     "metadata": {},
     "output_type": "execute_result"
    }
   ],
   "source": [
    "company.count()"
   ]
  },
  {
   "cell_type": "code",
   "execution_count": 105,
   "id": "9fbb8147",
   "metadata": {},
   "outputs": [],
   "source": [
    "company=company.fillna(company.mean())"
   ]
  },
  {
   "cell_type": "markdown",
   "id": "b813699d",
   "metadata": {
    "id": "b813699d"
   },
   "source": [
    "#### 1.d. Delete duplicate values if found any."
   ]
  },
  {
   "cell_type": "code",
   "execution_count": 97,
   "id": "15d433c4",
   "metadata": {
    "id": "15d433c4"
   },
   "outputs": [],
   "source": [
    "# Delete duplicate values if found any.\n",
    "#Type your code here!\n",
    "company.drop_duplicates(keep=False,inplace=True)"
   ]
  },
  {
   "cell_type": "code",
   "execution_count": 98,
   "id": "fa43a11d",
   "metadata": {
    "id": "fa43a11d"
   },
   "outputs": [
    {
     "data": {
      "text/plain": [
       "category_code          108901\n",
       "status                 134790\n",
       "founded_at              87249\n",
       "closed_at                2620\n",
       "country_code            86177\n",
       "state_code              50143\n",
       "first_investment_at      2381\n",
       "last_investment_at       2381\n",
       "investment_rounds        2385\n",
       "first_funding_at        31461\n",
       "last_funding_at         31461\n",
       "funding_rounds          31661\n",
       "funding_total_usd       27854\n",
       "first_milestone_at      66363\n",
       "last_milestone_at       66363\n",
       "milestones              66363\n",
       "relationships           88103\n",
       "created_by             105424\n",
       "lat                     82566\n",
       "lng                     82566\n",
       "ROI                       726\n",
       "dtype: int64"
      ]
     },
     "execution_count": 98,
     "metadata": {},
     "output_type": "execute_result"
    }
   ],
   "source": [
    "# Since, there are duplicate values in the dataset let's see how of duplicate values are present.\n",
    "#Type your code here!\n",
    "company.count()"
   ]
  },
  {
   "cell_type": "code",
   "execution_count": null,
   "id": "b1693c84",
   "metadata": {
    "id": "b1693c84"
   },
   "outputs": [],
   "source": [
    "# Let's delete all the duplicate values\n",
    "#Type your code here!"
   ]
  },
  {
   "cell_type": "code",
   "execution_count": null,
   "id": "f7c84717",
   "metadata": {
    "id": "f7c84717"
   },
   "outputs": [],
   "source": [
    "# check if any left\n",
    "#Type your code here!"
   ]
  },
  {
   "cell_type": "markdown",
   "id": "1714f99e",
   "metadata": {
    "id": "1714f99e"
   },
   "source": [
    "#### 1.e. Delete those which has more than 98% of null values."
   ]
  },
  {
   "cell_type": "code",
   "execution_count": 99,
   "id": "f78f5afc",
   "metadata": {
    "id": "f78f5afc"
   },
   "outputs": [],
   "source": [
    "company = company.astype('category')"
   ]
  },
  {
   "cell_type": "code",
   "execution_count": 100,
   "id": "ef66e47a",
   "metadata": {},
   "outputs": [
    {
     "data": {
      "text/plain": [
       "category_code          category\n",
       "status                 category\n",
       "founded_at             category\n",
       "closed_at              category\n",
       "country_code           category\n",
       "state_code             category\n",
       "first_investment_at    category\n",
       "last_investment_at     category\n",
       "investment_rounds      category\n",
       "first_funding_at       category\n",
       "last_funding_at        category\n",
       "funding_rounds         category\n",
       "funding_total_usd      category\n",
       "first_milestone_at     category\n",
       "last_milestone_at      category\n",
       "milestones             category\n",
       "relationships          category\n",
       "created_by             category\n",
       "lat                    category\n",
       "lng                    category\n",
       "ROI                    category\n",
       "dtype: object"
      ]
     },
     "execution_count": 100,
     "metadata": {},
     "output_type": "execute_result"
    }
   ],
   "source": [
    "company.dtypes"
   ]
  },
  {
   "cell_type": "code",
   "execution_count": 111,
   "id": "abcd3203",
   "metadata": {},
   "outputs": [
    {
     "data": {
      "text/html": [
       "<div>\n",
       "<style scoped>\n",
       "    .dataframe tbody tr th:only-of-type {\n",
       "        vertical-align: middle;\n",
       "    }\n",
       "\n",
       "    .dataframe tbody tr th {\n",
       "        vertical-align: top;\n",
       "    }\n",
       "\n",
       "    .dataframe thead th {\n",
       "        text-align: right;\n",
       "    }\n",
       "</style>\n",
       "<table border=\"1\" class=\"dataframe\">\n",
       "  <thead>\n",
       "    <tr style=\"text-align: right;\">\n",
       "      <th></th>\n",
       "      <th>category_code</th>\n",
       "      <th>status</th>\n",
       "      <th>founded_at</th>\n",
       "      <th>closed_at</th>\n",
       "      <th>country_code</th>\n",
       "      <th>state_code</th>\n",
       "      <th>first_investment_at</th>\n",
       "      <th>last_investment_at</th>\n",
       "      <th>investment_rounds</th>\n",
       "      <th>first_funding_at</th>\n",
       "      <th>...</th>\n",
       "      <th>funding_rounds</th>\n",
       "      <th>funding_total_usd</th>\n",
       "      <th>first_milestone_at</th>\n",
       "      <th>last_milestone_at</th>\n",
       "      <th>milestones</th>\n",
       "      <th>relationships</th>\n",
       "      <th>created_by</th>\n",
       "      <th>lat</th>\n",
       "      <th>lng</th>\n",
       "      <th>ROI</th>\n",
       "    </tr>\n",
       "  </thead>\n",
       "  <tbody>\n",
       "  </tbody>\n",
       "</table>\n",
       "<p>0 rows × 21 columns</p>\n",
       "</div>"
      ],
      "text/plain": [
       "Empty DataFrame\n",
       "Columns: [category_code, status, founded_at, closed_at, country_code, state_code, first_investment_at, last_investment_at, investment_rounds, first_funding_at, last_funding_at, funding_rounds, funding_total_usd, first_milestone_at, last_milestone_at, milestones, relationships, created_by, lat, lng, ROI]\n",
       "Index: []\n",
       "\n",
       "[0 rows x 21 columns]"
      ]
     },
     "execution_count": 111,
     "metadata": {},
     "output_type": "execute_result"
    }
   ],
   "source": [
    "company.astype('int')"
   ]
  },
  {
   "cell_type": "code",
   "execution_count": null,
   "id": "82200e57",
   "metadata": {
    "id": "82200e57"
   },
   "outputs": [],
   "source": [
    "# # Since we can see only nan values so et's check how much of ros has nan values.\n",
    "#Type your code here!"
   ]
  },
  {
   "cell_type": "code",
   "execution_count": null,
   "id": "eff123b9",
   "metadata": {
    "id": "eff123b9"
   },
   "outputs": [],
   "source": [
    "# # Since we can see it has more than 96% of null values, it would not make sense to impute these data. So, lets drop it.\n",
    "#Type your code here!"
   ]
  },
  {
   "cell_type": "markdown",
   "id": "4666865e",
   "metadata": {
    "id": "4666865e"
   },
   "source": [
    "#### 2.a. Delete instances with missing values for 'status', 'country_code', 'category_code' and 'founded_at'.\n",
    "    (Since these are the type of data where adding value via imputation will create wrong pattern only)"
   ]
  },
  {
   "cell_type": "code",
   "execution_count": 115,
   "id": "bcc03c97",
   "metadata": {
    "id": "bcc03c97"
   },
   "outputs": [
    {
     "data": {
      "text/plain": [
       "Series([], Name: founded_at, dtype: category\n",
       "Categories (6153, object): ['1901-01-01', '1902-01-01', '1903-01-01', '1903-06-16', ..., '2014-04-01', '2014-05-31', '2014-08-01', '2014-10-01'])"
      ]
     },
     "execution_count": 115,
     "metadata": {},
     "output_type": "execute_result"
    }
   ],
   "source": [
    "#Type your code here!\n",
    "company.sort_values(by=[\"founded_at\"], inplace=True, ascending=True)\n",
    "company.founded_at.head()"
   ]
  },
  {
   "cell_type": "code",
   "execution_count": 124,
   "id": "3d326585",
   "metadata": {
    "id": "3d326585",
    "scrolled": true
   },
   "outputs": [
    {
     "data": {
      "text/plain": [
       "<matplotlib.collections.PathCollection at 0x25d30dff100>"
      ]
     },
     "execution_count": 124,
     "metadata": {},
     "output_type": "execute_result"
    },
    {
     "data": {
      "image/png": "[encoded data removed]",
      "text/plain": [
       "<Figure size 432x288 with 1 Axes>"
      ]
     },
     "metadata": {},
     "output_type": "display_data"
    }
   ],
   "source": [
    "#Type your code here!\n",
    "\n",
    "fig, ax = plt.subplots()\n",
    "ax.scatter(company[\"investment_rounds\"], company[\"founded_at\"])"
   ]
  },
  {
   "cell_type": "code",
   "execution_count": 122,
   "id": "5bd917f9",
   "metadata": {
    "id": "5bd917f9",
    "scrolled": true
   },
   "outputs": [
    {
     "ename": "TypeError",
     "evalue": "no numeric data to plot",
     "output_type": "error",
     "traceback": [
      "\u001b[1;31m---------------------------------------------------------------------------\u001b[0m",
      "\u001b[1;31mTypeError\u001b[0m                                 Traceback (most recent call last)",
      "Input \u001b[1;32mIn [122]\u001b[0m, in \u001b[0;36m<cell line: 3>\u001b[1;34m()\u001b[0m\n\u001b[0;32m      1\u001b[0m \u001b[38;5;66;03m#Type your code here!\u001b[39;00m\n\u001b[1;32m----> 3\u001b[0m \u001b[43mcompany\u001b[49m\u001b[38;5;241;43m.\u001b[39;49m\u001b[43mfunding_rounds\u001b[49m\u001b[38;5;241;43m.\u001b[39;49m\u001b[43mplot\u001b[49m\u001b[43m(\u001b[49m\u001b[43m)\u001b[49m\n",
      "File \u001b[1;32mC:\\Miniconda3\\Codes\\env\\lib\\site-packages\\pandas\\plotting\\_core.py:972\u001b[0m, in \u001b[0;36mPlotAccessor.__call__\u001b[1;34m(self, *args, **kwargs)\u001b[0m\n\u001b[0;32m    969\u001b[0m             label_name \u001b[38;5;241m=\u001b[39m label_kw \u001b[38;5;129;01mor\u001b[39;00m data\u001b[38;5;241m.\u001b[39mcolumns\n\u001b[0;32m    970\u001b[0m             data\u001b[38;5;241m.\u001b[39mcolumns \u001b[38;5;241m=\u001b[39m label_name\n\u001b[1;32m--> 972\u001b[0m \u001b[38;5;28;01mreturn\u001b[39;00m plot_backend\u001b[38;5;241m.\u001b[39mplot(data, kind\u001b[38;5;241m=\u001b[39mkind, \u001b[38;5;241m*\u001b[39m\u001b[38;5;241m*\u001b[39mkwargs)\n",
      "File \u001b[1;32mC:\\Miniconda3\\Codes\\env\\lib\\site-packages\\pandas\\plotting\\_matplotlib\\__init__.py:71\u001b[0m, in \u001b[0;36mplot\u001b[1;34m(data, kind, **kwargs)\u001b[0m\n\u001b[0;32m     69\u001b[0m         kwargs[\u001b[38;5;124m\"\u001b[39m\u001b[38;5;124max\u001b[39m\u001b[38;5;124m\"\u001b[39m] \u001b[38;5;241m=\u001b[39m \u001b[38;5;28mgetattr\u001b[39m(ax, \u001b[38;5;124m\"\u001b[39m\u001b[38;5;124mleft_ax\u001b[39m\u001b[38;5;124m\"\u001b[39m, ax)\n\u001b[0;32m     70\u001b[0m plot_obj \u001b[38;5;241m=\u001b[39m PLOT_CLASSES[kind](data, \u001b[38;5;241m*\u001b[39m\u001b[38;5;241m*\u001b[39mkwargs)\n\u001b[1;32m---> 71\u001b[0m \u001b[43mplot_obj\u001b[49m\u001b[38;5;241;43m.\u001b[39;49m\u001b[43mgenerate\u001b[49m\u001b[43m(\u001b[49m\u001b[43m)\u001b[49m\n\u001b[0;32m     72\u001b[0m plot_obj\u001b[38;5;241m.\u001b[39mdraw()\n\u001b[0;32m     73\u001b[0m \u001b[38;5;28;01mreturn\u001b[39;00m plot_obj\u001b[38;5;241m.\u001b[39mresult\n",
      "File \u001b[1;32mC:\\Miniconda3\\Codes\\env\\lib\\site-packages\\pandas\\plotting\\_matplotlib\\core.py:327\u001b[0m, in \u001b[0;36mMPLPlot.generate\u001b[1;34m(self)\u001b[0m\n\u001b[0;32m    325\u001b[0m \u001b[38;5;28;01mdef\u001b[39;00m \u001b[38;5;21mgenerate\u001b[39m(\u001b[38;5;28mself\u001b[39m):\n\u001b[0;32m    326\u001b[0m     \u001b[38;5;28mself\u001b[39m\u001b[38;5;241m.\u001b[39m_args_adjust()\n\u001b[1;32m--> 327\u001b[0m     \u001b[38;5;28;43mself\u001b[39;49m\u001b[38;5;241;43m.\u001b[39;49m\u001b[43m_compute_plot_data\u001b[49m\u001b[43m(\u001b[49m\u001b[43m)\u001b[49m\n\u001b[0;32m    328\u001b[0m     \u001b[38;5;28mself\u001b[39m\u001b[38;5;241m.\u001b[39m_setup_subplots()\n\u001b[0;32m    329\u001b[0m     \u001b[38;5;28mself\u001b[39m\u001b[38;5;241m.\u001b[39m_make_plot()\n",
      "File \u001b[1;32mC:\\Miniconda3\\Codes\\env\\lib\\site-packages\\pandas\\plotting\\_matplotlib\\core.py:506\u001b[0m, in \u001b[0;36mMPLPlot._compute_plot_data\u001b[1;34m(self)\u001b[0m\n\u001b[0;32m    504\u001b[0m \u001b[38;5;66;03m# no non-numeric frames or series allowed\u001b[39;00m\n\u001b[0;32m    505\u001b[0m \u001b[38;5;28;01mif\u001b[39;00m is_empty:\n\u001b[1;32m--> 506\u001b[0m     \u001b[38;5;28;01mraise\u001b[39;00m \u001b[38;5;167;01mTypeError\u001b[39;00m(\u001b[38;5;124m\"\u001b[39m\u001b[38;5;124mno numeric data to plot\u001b[39m\u001b[38;5;124m\"\u001b[39m)\n\u001b[0;32m    508\u001b[0m \u001b[38;5;28mself\u001b[39m\u001b[38;5;241m.\u001b[39mdata \u001b[38;5;241m=\u001b[39m numeric_data\u001b[38;5;241m.\u001b[39mapply(\u001b[38;5;28mself\u001b[39m\u001b[38;5;241m.\u001b[39m_convert_to_ndarray)\n",
      "\u001b[1;31mTypeError\u001b[0m: no numeric data to plot"
     ]
    }
   ],
   "source": [
    "#Type your code here!\n",
    "\n",
    "company.funding_rounds.plot()"
   ]
  },
  {
   "cell_type": "code",
   "execution_count": null,
   "id": "52e2c90e",
   "metadata": {
    "id": "52e2c90e",
    "scrolled": true
   },
   "outputs": [],
   "source": [
    "# Since we can see only nan values so et's check how much of rows has nan values.\n",
    "#Type your code here!"
   ]
  },
  {
   "cell_type": "code",
   "execution_count": null,
   "id": "a24ae99d",
   "metadata": {
    "id": "a24ae99d"
   },
   "outputs": [],
   "source": [
    "#Type your code here!"
   ]
  },
  {
   "cell_type": "code",
   "execution_count": null,
   "id": "00a09145",
   "metadata": {
    "id": "00a09145"
   },
   "outputs": [],
   "source": [
    "company"
   ]
  },
  {
   "cell_type": "markdown",
   "id": "2452f22e",
   "metadata": {
    "id": "2452f22e"
   },
   "source": [
    "#### 2.b. Delete outliers for 'funding_total_usd' and 'funding_rounds'."
   ]
  },
  {
   "cell_type": "code",
   "execution_count": null,
   "id": "a7baa120",
   "metadata": {
    "id": "a7baa120"
   },
   "outputs": [],
   "source": [
    "#Type your code here!"
   ]
  },
  {
   "cell_type": "code",
   "execution_count": null,
   "id": "4b80d776",
   "metadata": {
    "id": "4b80d776"
   },
   "outputs": [],
   "source": [
    "#Type your code here!"
   ]
  },
  {
   "cell_type": "markdown",
   "id": "3d5d33d2",
   "metadata": {
    "id": "3d5d33d2"
   },
   "source": [
    "### Summary:\n",
    "If you can see the outlier in both 'funding_total_usd' and 'funding_rounds'. So, let's find them and drop it.\n",
    "\n",
    "    1. Find the IQR (Interquartile Range)\n",
    "    2. Find the upper and lower limit\n",
    "    3. Find outliers\n",
    "    4. Drop them\n",
    "    5. Compare the plots after trimming \n"
   ]
  },
  {
   "cell_type": "markdown",
   "id": "0d158e60",
   "metadata": {
    "id": "0d158e60"
   },
   "source": [
    "#### 2.b.1. Find the IQR"
   ]
  },
  {
   "cell_type": "code",
   "execution_count": null,
   "id": "61ab4f32",
   "metadata": {
    "id": "61ab4f32"
   },
   "outputs": [],
   "source": [
    "# For funding_total_usd\n",
    "#Type your code here!\n",
    "\n",
    "# For funding_rounds\n",
    "#Type your code here!\n"
   ]
  },
  {
   "cell_type": "markdown",
   "id": "5d0d9e4a",
   "metadata": {
    "id": "5d0d9e4a"
   },
   "source": [
    "#### 2.b.1. Find the Upper and Lower limit"
   ]
  },
  {
   "cell_type": "code",
   "execution_count": null,
   "id": "3d5b2a12",
   "metadata": {
    "id": "3d5b2a12"
   },
   "outputs": [],
   "source": [
    "# For funding_total_usd\n",
    "#Type your code here!\n",
    "\n",
    "# For funding_rounds\n",
    "#Type your code here!"
   ]
  },
  {
   "cell_type": "markdown",
   "id": "66dc08d6",
   "metadata": {
    "id": "66dc08d6"
   },
   "source": [
    "#### 2.b.1.  Find outliers"
   ]
  },
  {
   "cell_type": "code",
   "execution_count": null,
   "id": "48a4c169",
   "metadata": {
    "id": "48a4c169"
   },
   "outputs": [],
   "source": [
    "# For funding_total_usd\n",
    "#Type your code here!\n",
    "\n",
    "# For funding_rounds\n",
    "#Type your code here!"
   ]
  },
  {
   "cell_type": "markdown",
   "id": "9b140213",
   "metadata": {
    "id": "9b140213"
   },
   "source": [
    "#### 2.b.1. Drop the outliers"
   ]
  },
  {
   "cell_type": "code",
   "execution_count": null,
   "id": "5a048db8",
   "metadata": {
    "id": "5a048db8"
   },
   "outputs": [],
   "source": [
    "# For funding_total_usd\n",
    "#Type your code here!\n",
    "\n",
    "# For funding_rounds\n",
    "#Type your code here!\n",
    "   "
   ]
  },
  {
   "cell_type": "code",
   "execution_count": null,
   "id": "87bd0e15",
   "metadata": {
    "id": "87bd0e15"
   },
   "outputs": [],
   "source": [
    "company"
   ]
  },
  {
   "cell_type": "markdown",
   "id": "14676413",
   "metadata": {
    "id": "14676413"
   },
   "source": [
    "#### 2.c. Delete contradictory (mutually opposed or inconsistent data).\n"
   ]
  },
  {
   "cell_type": "code",
   "execution_count": null,
   "id": "09a8c051",
   "metadata": {
    "id": "09a8c051"
   },
   "outputs": [],
   "source": [
    "# Since we have not imputed the datasets in closed_at yet, we will check it later on."
   ]
  },
  {
   "cell_type": "markdown",
   "id": "cee3dc2b",
   "metadata": {
    "id": "cee3dc2b"
   },
   "source": [
    "# B. Date Transformation\n",
    "    It can be divided into two successive phases.\n",
    "   ## 1. Changes in original data\n",
    "        a. Convert founded_at, closed_at, first_funded_at, last_funding_at, first_milestone_at ,\n",
    "           last_milestone_at to years.\n",
    "        b. Generalize the categorical data i.e. category_code, status and category_code.\n",
    "   ## 2. Create new variables\n",
    "        a. Create new feature isClosed from closed_at and status.\n",
    "        b. Create new feature 'active_days'"
   ]
  },
  {
   "cell_type": "markdown",
   "id": "933f43e1",
   "metadata": {
    "id": "933f43e1"
   },
   "source": [
    "#### 1.a. Convert founded_at, closed_at, first_funded_at, last_funding_at, first_milestone_at , last_milestone_at to years."
   ]
  },
  {
   "cell_type": "code",
   "execution_count": null,
   "id": "281ba13e",
   "metadata": {
    "id": "281ba13e"
   },
   "outputs": [],
   "source": [
    "# For founded_at\n",
    "#Type your code here!\n",
    "\n",
    "# closed_at\n",
    "#Type your code here!\n",
    "\n",
    "# # first_funding_at\n",
    "#Type your code here!\n",
    "\n",
    "# # last_funding_at\n",
    "#Type your code here!\n",
    "\n",
    "# # first_milestone_at\n",
    "#Type your code here!\n",
    "\n",
    "# # last_milestone_at\n",
    "#Type your code here!\n",
    "\n",
    "company"
   ]
  },
  {
   "cell_type": "markdown",
   "id": "cda991d8",
   "metadata": {
    "id": "cda991d8"
   },
   "source": [
    " #### 1.b. Generalize the categorical data i.e. category_code and  country_code "
   ]
  },
  {
   "cell_type": "code",
   "execution_count": null,
   "id": "57cc43c6",
   "metadata": {
    "id": "57cc43c6"
   },
   "outputs": [],
   "source": [
    "# 1. category_code\n",
    "#Type your code here!"
   ]
  },
  {
   "cell_type": "code",
   "execution_count": null,
   "id": "f8a1b6a2",
   "metadata": {
    "id": "f8a1b6a2"
   },
   "outputs": [],
   "source": [
    "# Since there are 42 categories, one-hot encoding which is going to create a lot of columns so\n",
    "# Lets Check the repetition of value in ascending order and keep the first 15 values and name \n",
    "# remaining one as other.\n",
    "\n",
    "#Type your code here!"
   ]
  },
  {
   "cell_type": "code",
   "execution_count": null,
   "id": "fc8de68a",
   "metadata": {
    "id": "fc8de68a"
   },
   "outputs": [],
   "source": [
    "# Lets keep the category as same of it falls under above 10 otherwise let's replace it with other.\n",
    "\n",
    "#Type your code here!"
   ]
  },
  {
   "cell_type": "code",
   "execution_count": null,
   "id": "0e6b0550",
   "metadata": {
    "id": "0e6b0550"
   },
   "outputs": [],
   "source": [
    "#Type your code here!"
   ]
  },
  {
   "cell_type": "code",
   "execution_count": null,
   "id": "2ce4ee1d",
   "metadata": {
    "id": "2ce4ee1d",
    "scrolled": true
   },
   "outputs": [],
   "source": [
    "# Let's check if we've more than 15 columns\n",
    "#Type your code here!"
   ]
  },
  {
   "cell_type": "code",
   "execution_count": null,
   "id": "8d400abb",
   "metadata": {
    "id": "8d400abb"
   },
   "outputs": [],
   "source": [
    "# One-hot encoding to category_code\n",
    "#Type your code here!"
   ]
  },
  {
   "cell_type": "code",
   "execution_count": null,
   "id": "d1e694f8",
   "metadata": {
    "id": "d1e694f8"
   },
   "outputs": [],
   "source": [
    "# Concatenate category with company dataset\n",
    "#Type your code here!"
   ]
  },
  {
   "cell_type": "code",
   "execution_count": null,
   "id": "f657de7c",
   "metadata": {
    "id": "f657de7c"
   },
   "outputs": [],
   "source": [
    "# Since, We've added the encoded category_columns, let's delete original category_code\n",
    "#Type your code here!"
   ]
  },
  {
   "cell_type": "markdown",
   "id": "ed7dd838",
   "metadata": {
    "id": "ed7dd838"
   },
   "source": [
    "### Let's encode 'country' column now."
   ]
  },
  {
   "cell_type": "code",
   "execution_count": null,
   "id": "8602fa7b",
   "metadata": {
    "id": "8602fa7b"
   },
   "outputs": [],
   "source": [
    "# 1. country_code\n",
    "#Type your code here!"
   ]
  },
  {
   "cell_type": "code",
   "execution_count": null,
   "id": "1a77e320",
   "metadata": {
    "id": "1a77e320"
   },
   "outputs": [],
   "source": [
    "\n",
    "# Since there are 161 categories, one-hot encoding which is going to create a lot of columns so\n",
    "# Lets Check the repetition of value in ascending order and keep the first 10 values and name \n",
    "# remaining one as other.\n",
    "\n",
    "#Type your code here!\n"
   ]
  },
  {
   "cell_type": "code",
   "execution_count": null,
   "id": "a4046de4",
   "metadata": {
    "id": "a4046de4"
   },
   "outputs": [],
   "source": [
    "# Lets keep the country as same of it falls under above 10 otherwise let's replaceit with other.\n",
    "\n",
    "#Type your code here!"
   ]
  },
  {
   "cell_type": "code",
   "execution_count": null,
   "id": "e2dfd3fb",
   "metadata": {
    "id": "e2dfd3fb"
   },
   "outputs": [],
   "source": [
    "#Type your code here!"
   ]
  },
  {
   "cell_type": "code",
   "execution_count": null,
   "id": "34b15552",
   "metadata": {
    "id": "34b15552"
   },
   "outputs": [],
   "source": [
    "#Type your code here!"
   ]
  },
  {
   "cell_type": "code",
   "execution_count": null,
   "id": "2435afeb",
   "metadata": {
    "id": "2435afeb",
    "scrolled": true
   },
   "outputs": [],
   "source": [
    "# One-hot encoding to category_code\n",
    "#Type your code here!"
   ]
  },
  {
   "cell_type": "code",
   "execution_count": null,
   "id": "8e08d7d3",
   "metadata": {
    "id": "8e08d7d3",
    "scrolled": false
   },
   "outputs": [],
   "source": [
    "# Concatenate category with company dataset\n",
    "#Type your code here!"
   ]
  },
  {
   "cell_type": "code",
   "execution_count": null,
   "id": "0687a0f5",
   "metadata": {
    "id": "0687a0f5",
    "scrolled": true
   },
   "outputs": [],
   "source": [
    "# Since, We've added the encoded country_code , let's delete original category_code\n",
    "#Type your code here!"
   ]
  },
  {
   "cell_type": "markdown",
   "id": "25a0b0b1",
   "metadata": {
    "id": "25a0b0b1"
   },
   "source": [
    "### 2. Create new variables¶\n",
    "    a. Create new feature isClosed from closed_at and status.\n",
    "    b. Create new feature 'active_days'"
   ]
  },
  {
   "cell_type": "markdown",
   "id": "bea27974",
   "metadata": {
    "id": "bea27974"
   },
   "source": [
    "#### 2.a. Create new feature isClosed from closed_at and status.\n",
    "     - if the value in status is 'operating' or 'ipo', Let's put 1.\n",
    "     - Where as if the value is 'acquired' or 'closed', let's put 0."
   ]
  },
  {
   "cell_type": "code",
   "execution_count": null,
   "id": "eb3dfc50",
   "metadata": {
    "id": "eb3dfc50"
   },
   "outputs": [],
   "source": [
    "#Type your code here!"
   ]
  },
  {
   "cell_type": "code",
   "execution_count": null,
   "id": "b7a6bc0b",
   "metadata": {
    "id": "b7a6bc0b",
    "scrolled": true
   },
   "outputs": [],
   "source": [
    "#Type your code here!"
   ]
  },
  {
   "cell_type": "code",
   "execution_count": null,
   "id": "5ab2374d",
   "metadata": {
    "id": "5ab2374d"
   },
   "outputs": [],
   "source": [
    "#Type your code here!"
   ]
  },
  {
   "cell_type": "markdown",
   "id": "9305be88",
   "metadata": {
    "id": "9305be88"
   },
   "source": [
    "#### 2.b. Create active_days\n",
    "     i. Replacing values:\n",
    "         -  if the value in status is 'operating' or 'ipo' in closed_at, Let's put 2021.\n",
    "         - Where as if the value is 'acquired' or 'closed', let's put 0.\n",
    "     ii. Subtract founded_date from closed_date, and calculate age in days (After calculating active days, \n",
    "         check contradictory issues we didn't check it before).\n",
    "     iii. Then, delete the closed_at column."
   ]
  },
  {
   "cell_type": "code",
   "execution_count": null,
   "id": "f2d4054e",
   "metadata": {
    "id": "f2d4054e"
   },
   "outputs": [],
   "source": [
    "#Type your code here!"
   ]
  },
  {
   "cell_type": "markdown",
   "id": "aea5b15a",
   "metadata": {
    "id": "aea5b15a"
   },
   "source": [
    "##### 2.b.i  Replacing the values in closed_at column\n",
    "   - if the value in status is 'operating' or 'ipo' in closed_at, Let's put 2021.\n",
    "   - Where as if the value is 'acquired' or 'closed', let's put 0."
   ]
  },
  {
   "cell_type": "code",
   "execution_count": null,
   "id": "27253d01",
   "metadata": {
    "id": "27253d01"
   },
   "outputs": [],
   "source": [
    "#Type your code here!"
   ]
  },
  {
   "cell_type": "code",
   "execution_count": null,
   "id": "5a7633f0",
   "metadata": {
    "id": "5a7633f0"
   },
   "outputs": [],
   "source": [
    "#Type your code here!"
   ]
  },
  {
   "cell_type": "code",
   "execution_count": null,
   "id": "ee31f9d9",
   "metadata": {
    "id": "ee31f9d9"
   },
   "outputs": [],
   "source": [
    "#Type your code here!"
   ]
  },
  {
   "cell_type": "markdown",
   "id": "2b95bd66",
   "metadata": {
    "id": "2b95bd66"
   },
   "source": [
    "##### 2.b.ii Subtract founded_date from closed_date, and calculate age in days (After calculating active days, check contradictory issues we didn't check it before.)"
   ]
  },
  {
   "cell_type": "code",
   "execution_count": null,
   "id": "b273d43b",
   "metadata": {
    "id": "b273d43b"
   },
   "outputs": [],
   "source": [
    "#Type your code here!"
   ]
  },
  {
   "cell_type": "markdown",
   "id": "f71da94f",
   "metadata": {
    "id": "f71da94f"
   },
   "source": [
    "#### 2.b.iii. Then, delete the closed_at column."
   ]
  },
  {
   "cell_type": "code",
   "execution_count": null,
   "id": "0aef9ba3",
   "metadata": {
    "id": "0aef9ba3",
    "scrolled": true
   },
   "outputs": [],
   "source": [
    "#Type your code here!"
   ]
  },
  {
   "cell_type": "markdown",
   "id": "cd28059c",
   "metadata": {
    "id": "cd28059c"
   },
   "source": [
    "### Let's work on target variabe now."
   ]
  },
  {
   "cell_type": "code",
   "execution_count": null,
   "id": "b1b217c8",
   "metadata": {
    "id": "b1b217c8"
   },
   "outputs": [],
   "source": [
    "#Type your code here!"
   ]
  },
  {
   "cell_type": "code",
   "execution_count": null,
   "id": "f9461ef3",
   "metadata": {
    "id": "f9461ef3"
   },
   "outputs": [],
   "source": [
    "#Type your code here!"
   ]
  },
  {
   "cell_type": "code",
   "execution_count": null,
   "id": "fafb45d3",
   "metadata": {
    "id": "fafb45d3"
   },
   "outputs": [],
   "source": [
    "#Type your code here!"
   ]
  },
  {
   "cell_type": "code",
   "execution_count": null,
   "id": "15bc4ce8",
   "metadata": {
    "id": "15bc4ce8",
    "scrolled": false
   },
   "outputs": [],
   "source": [
    "#Type your code here!"
   ]
  },
  {
   "cell_type": "markdown",
   "id": "19ccb065",
   "metadata": {
    "id": "19ccb065"
   },
   "source": [
    "### Remove the null vaues with the mean value in 'Numerical Data'"
   ]
  },
  {
   "cell_type": "code",
   "execution_count": null,
   "id": "e3f5b897",
   "metadata": {
    "id": "e3f5b897"
   },
   "outputs": [],
   "source": [
    "company"
   ]
  },
  {
   "cell_type": "code",
   "execution_count": null,
   "id": "e8fad146",
   "metadata": {
    "id": "e8fad146"
   },
   "outputs": [],
   "source": [
    "#Type your code here!\n",
    "\n",
    "#Type your code here!"
   ]
  },
  {
   "cell_type": "code",
   "execution_count": null,
   "id": "92bab4b5",
   "metadata": {
    "id": "92bab4b5",
    "scrolled": true
   },
   "outputs": [],
   "source": [
    "company"
   ]
  },
  {
   "cell_type": "code",
   "execution_count": null,
   "id": "914f8146",
   "metadata": {
    "id": "914f8146"
   },
   "outputs": [],
   "source": [
    "# First let's check how much of rows has nan values and drop them.\n",
    "#Type your code here!"
   ]
  },
  {
   "cell_type": "code",
   "execution_count": null,
   "id": "480d6cc2",
   "metadata": {
    "id": "480d6cc2"
   },
   "outputs": [],
   "source": [
    "#Type your code here!"
   ]
  },
  {
   "cell_type": "code",
   "execution_count": null,
   "id": "63b5090c",
   "metadata": {
    "id": "63b5090c",
    "scrolled": true
   },
   "outputs": [],
   "source": [
    "#Type your code here!"
   ]
  },
  {
   "cell_type": "code",
   "execution_count": null,
   "id": "525a9e59",
   "metadata": {
    "id": "525a9e59",
    "scrolled": true
   },
   "outputs": [],
   "source": [
    "# Final null check on data\n",
    "#Type your code here!"
   ]
  },
  {
   "cell_type": "code",
   "execution_count": null,
   "id": "b37ab7e6",
   "metadata": {
    "id": "b37ab7e6"
   },
   "outputs": [],
   "source": [
    "#Finally Save cleaned Data.\n",
    "#Type your code here!"
   ]
  }
 ],
 "metadata": {
  "colab": {
   "collapsed_sections": [],
   "name": "Step_By Step_DataPreprocessing.ipynb",
   "provenance": []
  },
  "kernelspec": {
   "display_name": "Python 3 (ipykernel)",
   "language": "python",
   "name": "python3"
  },
  "language_info": {
   "codemirror_mode": {
    "name": "ipython",
    "version": 3
   },
   "file_extension": ".py",
   "mimetype": "text/x-python",
   "name": "python",
   "nbconvert_exporter": "python",
   "pygments_lexer": "ipython3",
   "version": "3.9.12"
  }
 },
 "nbformat": 4,
 "nbformat_minor": 5
}
